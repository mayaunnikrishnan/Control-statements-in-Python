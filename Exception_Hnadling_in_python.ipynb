{
  "nbformat": 4,
  "nbformat_minor": 0,
  "metadata": {
    "colab": {
      "provenance": []
    },
    "kernelspec": {
      "name": "python3",
      "display_name": "Python 3"
    },
    "language_info": {
      "name": "python"
    }
  },
  "cells": [
    {
      "cell_type": "markdown",
      "source": [
        "\n",
        "## **Python Exception Handling**\n",
        "\n",
        "### There are three types of errors in python:\n",
        "\n",
        "(1) **syntax error(compiler error)**:\n",
        "\n",
        "caused due to use of wrong syntax due to which the pro\n",
        "gramme will stop\n",
        "execution and is displayed on the screen.\n",
        "\n",
        "\n",
        "(2) **logical errors(Exceptions)**:\n",
        "\n",
        "raised when some internal events occur,which changes the\n",
        "normal flow of\n",
        "execution of the programm, logical errors are not visible and is difficult to detect\n",
        "\n",
        "(3) **Run time error**:\n",
        "\n",
        "errors occured during exection and is displayed on the screen\n",
        "\n",
        "\n",
        "\n",
        "### What is exception handling:\n",
        "\n",
        "python handles logical errors with try,except,else and finally statement,\n",
        "these statements are used to catch and handle the exceptions\n",
        "\n",
        "**try statement**:\n",
        "\n",
        "statements which can raise the exceptions are kept inside the try clause\n",
        "\n",
        "\n",
        "**except statement**: exceptions raised bythe try block is handled by the except clause\n",
        "\n",
        "**else statement**:(optional) if the try clause dose not raise an exception, then the code will\n",
        "enters the else\n",
        "block\n",
        "\n",
        "**finally statement**: (optional) the code will finally enters the finally block even if the try cla\n",
        "use raise an\n",
        "exception or not"
      ],
      "metadata": {
        "id": "BEeYjZ_K7gjs"
      }
    },
    {
      "cell_type": "code",
      "execution_count": null,
      "metadata": {
        "id": "fN-ysyI-7akI"
      },
      "outputs": [],
      "source": [
        "#Syntax:\n",
        "try:\n",
        "# Some Code\n",
        "except:\n",
        "# Executed if error in the\n",
        "# try block\n",
        "else:\n",
        "# execute if no exception\n",
        "finally:\n",
        "# Some code .....(always executed)"
      ]
    },
    {
      "cell_type": "code",
      "source": [
        "#normal excecution\n",
        "a=int(input(\"enter the nominator:\"))\n",
        "b=int(input(\"enter the dinominator:\"))\n",
        "try:\n",
        "    c=a/b\n",
        "except:\n",
        "    print(\"exception occured....\")\n",
        "else:\n",
        "    print(f\"{a}/{b}=\",c)\n",
        "finally:\n",
        "    print(\"programm ends here\")\n"
      ],
      "metadata": {
        "id": "7txIST0lEOSJ",
        "colab": {
          "base_uri": "https://localhost:8080/"
        },
        "outputId": "468f58e3-ac70-42f4-8002-462f62491128"
      },
      "execution_count": 1,
      "outputs": [
        {
          "output_type": "stream",
          "name": "stdout",
          "text": [
            "enter the nominator:3\n",
            "enter the dinominator:0\n",
            "exception occured....\n",
            "programm ends here\n"
          ]
        }
      ]
    },
    {
      "cell_type": "markdown",
      "source": [
        "## **Built-in Exceptions in Python:**\n",
        "exceptions that are already defined in python which is also called concrete exceptions\n",
        "All instances in Python must be instances of a class that derives from BaseException.\n",
        "\n",
        "These built-in exceptions can be viewed using the local() built-in functions as follows :\n",
        "\n",
        "`>>> locals()['__builtins__']`"
      ],
      "metadata": {
        "id": "sEmOvnL8EKv6"
      }
    },
    {
      "cell_type": "markdown",
      "source": [
        "### **Base Classes:**\n",
        "exception BaseException:This is the base class for all built-in exceptions.\n",
        "\n",
        "\n",
        "exception Exception:This is the base class for all built-in non-system-exiting exception\n",
        "s.\n",
        "\n",
        "\n",
        "All user-defined exceptions should also be derived from this class.\n",
        "\n",
        "**exception ArithmeticError**:\n",
        "\n",
        "base class for those built-in exceptions that are raised for vari\n",
        "ous arithmetic errors\n",
        "\n",
        "OverflowError\n",
        "\n",
        "ZeroDivisionError\n",
        "\n",
        "FloatingPointError\n",
        "\n",
        "**exception BufferError**:\n",
        "\n",
        "This exception is raised when buffer related operations cannot be\n",
        "performed.\n",
        "\n",
        "**exception LookupError**:\n",
        "\n",
        "raised when a key or index used on a mapping or sequence is inv\n",
        "alid or not found.\n",
        "\n",
        "KeyError\n",
        "\n",
        "IndexError"
      ],
      "metadata": {
        "id": "7lICzR6lJFJ3"
      }
    },
    {
      "cell_type": "markdown",
      "source": [
        "## **Concrete exceptions**"
      ],
      "metadata": {
        "id": "T0h27TViKGwY"
      }
    },
    {
      "cell_type": "code",
      "source": [
        "# Attribute Error\n",
        "class Demo:\n",
        "    def __init__(self):\n",
        "        self.a = 10\n",
        "\n",
        "obj = Demo()\n",
        "\n",
        "try:\n",
        "    print(obj.b)\n",
        "except AttributeError:\n",
        "    print(\"Attribute doesn't exist\")\n",
        "\n",
        "print(\"Execute the rest of the program\")\n"
      ],
      "metadata": {
        "id": "vK4SFtq0H-Ow",
        "colab": {
          "base_uri": "https://localhost:8080/"
        },
        "outputId": "e5d41e2d-cb20-453a-a393-1cf5e838b4a6"
      },
      "execution_count": 2,
      "outputs": [
        {
          "output_type": "stream",
          "name": "stdout",
          "text": [
            "Attribute doesn't exist\n",
            "Execute the rest of the program\n"
          ]
        }
      ]
    },
    {
      "cell_type": "code",
      "source": [
        "#AssertionError\n",
        "a = 0\n",
        "\n",
        "try:\n",
        "    assert a != 0, \"invalid object\"\n",
        "except AssertionError:\n",
        "    print(\"AssertionError: invalid object\")\n",
        "except:\n",
        "    print(\"Exception occurred\")\n",
        "\n",
        "print(\"Code execution completed\")\n"
      ],
      "metadata": {
        "id": "97Uka2EsNCZm",
        "colab": {
          "base_uri": "https://localhost:8080/"
        },
        "outputId": "e8fb6b69-5123-4348-9529-e1d9f0637724"
      },
      "execution_count": 3,
      "outputs": [
        {
          "output_type": "stream",
          "name": "stdout",
          "text": [
            "AssertionError: invalid object\n",
            "Code execution completed\n"
          ]
        }
      ]
    },
    {
      "cell_type": "code",
      "source": [
        "##filenot fount error\n",
        "try:\n",
        "    with open(\"nonexistent_file.txt\", \"r\") as file:\n",
        "        content = file.read()\n",
        "    # Do something with the file content\n",
        "except FileNotFoundError:\n",
        "    print(\"The specified file was not found.\")\n",
        "except Exception as e:\n",
        "    print(f\"An error occurred: {e}\")\n",
        "else:\n",
        "    print(\"File reading and processing successful.\")\n",
        "finally:\n",
        "    print(\"File handling complete.\")\n"
      ],
      "metadata": {
        "id": "xFNbjd9KNCce",
        "colab": {
          "base_uri": "https://localhost:8080/"
        },
        "outputId": "b6284ded-0735-43e5-a4b7-dbca612aec60"
      },
      "execution_count": 4,
      "outputs": [
        {
          "output_type": "stream",
          "name": "stdout",
          "text": [
            "The specified file was not found.\n",
            "File handling complete.\n"
          ]
        }
      ]
    },
    {
      "cell_type": "code",
      "source": [
        "#index error\n",
        "my_list = [1, 2, 3]\n",
        "\n",
        "try:\n",
        "    index = 5\n",
        "    value = my_list[index]\n",
        "    print(f\"The value at index {index} is: {value}\")\n",
        "except IndexError:\n",
        "    print(f\"Index {index} is out of range.\")\n",
        "except Exception as e:\n",
        "    print(f\"An error occurred: {e}\")\n",
        "else:\n",
        "    print(\"Index access successful.\")\n",
        "finally:\n",
        "    print(\"Index handling complete.\")\n",
        "\n"
      ],
      "metadata": {
        "id": "2T0o6K5HNChe",
        "colab": {
          "base_uri": "https://localhost:8080/"
        },
        "outputId": "f061ed5d-39fd-43eb-c9b2-8236106f27ab"
      },
      "execution_count": 5,
      "outputs": [
        {
          "output_type": "stream",
          "name": "stdout",
          "text": [
            "Index 5 is out of range.\n",
            "Index handling complete.\n"
          ]
        }
      ]
    },
    {
      "cell_type": "code",
      "source": [
        "#key error\n",
        "my_dict = {\"a\": 1, \"b\": 2, \"c\": 3}\n",
        "\n",
        "try:\n",
        "    key = \"d\"\n",
        "    value = my_dict[key]\n",
        "    print(f\"The value for key '{key}' is: {value}\")\n",
        "except KeyError:\n",
        "    print(f\"Key '{key}' not found in the dictionary.\")\n",
        "except Exception as e:\n",
        "    print(f\"An error occurred: {e}\")\n",
        "else:\n",
        "    print(\"Key access successful.\")\n",
        "finally:\n",
        "    print(\"Key handling complete.\")\n"
      ],
      "metadata": {
        "id": "rQz3L4U2NCmd",
        "colab": {
          "base_uri": "https://localhost:8080/"
        },
        "outputId": "4b27c5ce-0e7e-40a9-a1be-1e250e3fd612"
      },
      "execution_count": 6,
      "outputs": [
        {
          "output_type": "stream",
          "name": "stdout",
          "text": [
            "Key 'd' not found in the dictionary.\n",
            "Key handling complete.\n"
          ]
        }
      ]
    },
    {
      "cell_type": "code",
      "source": [
        "#module not fount error\n",
        "try:\n",
        "    import non_existent_module\n",
        "except ModuleNotFoundError:\n",
        "    print(\"The specified module could not be found.\")\n",
        "except Exception as e:\n",
        "    print(f\"An error occurred: {e}\")\n",
        "else:\n",
        "    print(\"Module import successful.\")\n",
        "finally:\n",
        "    print(\"Module handling complete.\")\n"
      ],
      "metadata": {
        "id": "W7YA3LbGPmWl",
        "colab": {
          "base_uri": "https://localhost:8080/"
        },
        "outputId": "59db627d-e933-477c-dce8-988af56bd38b"
      },
      "execution_count": 7,
      "outputs": [
        {
          "output_type": "stream",
          "name": "stdout",
          "text": [
            "The specified module could not be found.\n",
            "Module handling complete.\n"
          ]
        }
      ]
    },
    {
      "cell_type": "code",
      "source": [
        "#name error\n",
        "try:\n",
        "    result = undefined_variable\n",
        "    print(result)\n",
        "except NameError:\n",
        "    print(\"The specified variable is not defined.\")\n",
        "except Exception as e:\n",
        "    print(f\"An error occurred: {e}\")\n",
        "else:\n",
        "    print(\"Variable usage successful.\")\n",
        "finally:\n",
        "    print(\"Variable handling complete.\")\n"
      ],
      "metadata": {
        "id": "67W8d1UxR-_B",
        "colab": {
          "base_uri": "https://localhost:8080/"
        },
        "outputId": "a819db1a-012c-49fb-aaf3-e19dd32819b6"
      },
      "execution_count": 8,
      "outputs": [
        {
          "output_type": "stream",
          "name": "stdout",
          "text": [
            "The specified variable is not defined.\n",
            "Variable handling complete.\n"
          ]
        }
      ]
    },
    {
      "cell_type": "code",
      "source": [
        "0#value error\n",
        "try:\n",
        "    value = int(input(\"Enter the value: \"))\n",
        "    print(value)\n",
        "except ValueError:\n",
        "    print(\"Invalid value for conversion.\")\n",
        "except Exception as e:\n",
        "    print(f\"An error occurred: {e}\")\n",
        "else:\n",
        "    print(\"Value conversion successful.\")\n",
        "finally:\n",
        "    print(\"Value handling complete.\")\n"
      ],
      "metadata": {
        "id": "Fq0rWb23TWZ0",
        "colab": {
          "base_uri": "https://localhost:8080/"
        },
        "outputId": "7f2e1279-0921-46f8-f716-f0287fff8c2f"
      },
      "execution_count": 9,
      "outputs": [
        {
          "output_type": "stream",
          "name": "stdout",
          "text": [
            "Enter the value: 2\n",
            "2\n",
            "Value conversion successful.\n",
            "Value handling complete.\n"
          ]
        }
      ]
    },
    {
      "cell_type": "code",
      "source": [
        "#type error\n",
        "try:\n",
        "    result = \"42\" + 10\n",
        "    print(result)\n",
        "except TypeError:\n",
        "    print(\"Incompatible types for operation.\")\n",
        "except Exception as e:\n",
        "    print(f\"An error occurred: {e}\")\n",
        "else:\n",
        "    print(\"Operation successful.\")\n",
        "finally:\n",
        "    print(\"Type handling complete.\")\n"
      ],
      "metadata": {
        "id": "5AAbSnY9TtMy",
        "colab": {
          "base_uri": "https://localhost:8080/"
        },
        "outputId": "97e49d46-8a56-4bcc-c8cb-4609bcb48d53"
      },
      "execution_count": 10,
      "outputs": [
        {
          "output_type": "stream",
          "name": "stdout",
          "text": [
            "Incompatible types for operation.\n",
            "Type handling complete.\n"
          ]
        }
      ]
    },
    {
      "cell_type": "code",
      "source": [
        "#zero division error\n",
        "try:\n",
        "    result = 10 / 0\n",
        "    print(result)\n",
        "except ZeroDivisionError:\n",
        "    print(\"Division by zero is not allowed.\")\n",
        "except Exception as e:\n",
        "    print(f\"An error occurred: {e}\")\n",
        "else:\n",
        "    print(\"Division successful.\")\n",
        "finally:\n",
        "    print(\"Division handling complete.\")\n"
      ],
      "metadata": {
        "id": "RWExRs4uT84a",
        "colab": {
          "base_uri": "https://localhost:8080/"
        },
        "outputId": "6f2f7f73-9160-49c9-8fc0-b75f88bc52fb"
      },
      "execution_count": 11,
      "outputs": [
        {
          "output_type": "stream",
          "name": "stdout",
          "text": [
            "Division by zero is not allowed.\n",
            "Division handling complete.\n"
          ]
        }
      ]
    },
    {
      "cell_type": "markdown",
      "source": [
        "##for practice:\n",
        "\n",
        "1.\tWrite a program that handles a ZeroDivisionError when dividing a number by zero.\n",
        "2.\tCreate a program that catches an IndexError when attempting to access an index that is out of bounds in a list.\n",
        "3.\tWrite a program that catches a ValueError when attempting to convert a non-integer string to an integer.\n",
        "4.\tImplement a program that handles a KeyError when trying to access a dictionary key that doesn't exist.\n",
        "5.\tCreate a program that catches a FileNotFoundError when trying to open a non-existent file.\n",
        "6.\tWrite a program that handles a TypeError when performing an unsupported operation, like adding a string and an integer.\n",
        "7.\tImplement a program that catches an AttributeError when trying to access an attribute or method that doesn't exist on an object.\n",
        "8.\tCreate a program that catches a NameError when trying to use a variable that hasn't been defined.\n",
        "9.\tWrite a program that catches a SyntaxError when there is a syntax error in the code.\n",
        "10.\tImplement a program that handles a ZeroDivisionError when taking the reciprocal of zero.\n"
      ],
      "metadata": {
        "id": "wnevb3VS36Go"
      }
    },
    {
      "cell_type": "code",
      "source": [
        "try:\n",
        "    result = 5 / 0\n",
        "except ZeroDivisionError as e:\n",
        "    print(f\"Error: {e}\")\n"
      ],
      "metadata": {
        "id": "ZCccotQp3_cD",
        "colab": {
          "base_uri": "https://localhost:8080/"
        },
        "outputId": "4f037e57-4250-4e04-d685-666f3440aac5"
      },
      "execution_count": 12,
      "outputs": [
        {
          "output_type": "stream",
          "name": "stdout",
          "text": [
            "Error: division by zero\n"
          ]
        }
      ]
    },
    {
      "cell_type": "code",
      "source": [
        "my_list = [1, 2, 3]\n",
        "try:\n",
        "    value = my_list[5]\n",
        "except IndexError as e:\n",
        "    print(f\"Index error: {e}\")\n"
      ],
      "metadata": {
        "id": "el1U6WR-4GX5",
        "colab": {
          "base_uri": "https://localhost:8080/"
        },
        "outputId": "36f1de6d-479c-4bcc-a953-2cc59c92a07a"
      },
      "execution_count": 13,
      "outputs": [
        {
          "output_type": "stream",
          "name": "stdout",
          "text": [
            "Index error: list index out of range\n"
          ]
        }
      ]
    },
    {
      "cell_type": "code",
      "source": [
        "try:\n",
        "    user_input = int(\"abc\")\n",
        "except ValueError as e:\n",
        "    print(f\"Value error: {e}\")\n"
      ],
      "metadata": {
        "id": "o0857e9N4Gd5",
        "colab": {
          "base_uri": "https://localhost:8080/"
        },
        "outputId": "7c3b1927-9873-4565-ccef-5b898855006d"
      },
      "execution_count": 14,
      "outputs": [
        {
          "output_type": "stream",
          "name": "stdout",
          "text": [
            "Value error: invalid literal for int() with base 10: 'abc'\n"
          ]
        }
      ]
    },
    {
      "cell_type": "code",
      "source": [
        "my_dict = {\"name\": \"John\", \"age\": 30}\n",
        "try:\n",
        "    value = my_dict[\"address\"]\n",
        "except KeyError as e:\n",
        "    print(f\"Key error: {e}\")\n"
      ],
      "metadata": {
        "id": "nHHMYGJJ4Ggq",
        "colab": {
          "base_uri": "https://localhost:8080/"
        },
        "outputId": "cd994910-ce00-445a-b5dc-2f19fc10d6d5"
      },
      "execution_count": 15,
      "outputs": [
        {
          "output_type": "stream",
          "name": "stdout",
          "text": [
            "Key error: 'address'\n"
          ]
        }
      ]
    },
    {
      "cell_type": "code",
      "source": [
        "try:\n",
        "    with open(\"nonexistent.txt\", \"r\") as file:\n",
        "        content = file.read()\n",
        "except FileNotFoundError as e:\n",
        "    print(f\"File not found: {e}\")\n"
      ],
      "metadata": {
        "id": "9s59WBeY4GjS",
        "colab": {
          "base_uri": "https://localhost:8080/"
        },
        "outputId": "3578344a-4489-472e-e7d1-efbebb6e085f"
      },
      "execution_count": 16,
      "outputs": [
        {
          "output_type": "stream",
          "name": "stdout",
          "text": [
            "File not found: [Errno 2] No such file or directory: 'nonexistent.txt'\n"
          ]
        }
      ]
    },
    {
      "cell_type": "code",
      "source": [
        "try:\n",
        "    result = \"abc\" + 123\n",
        "except TypeError as e:\n",
        "    print(f\"Type error: {e}\")\n"
      ],
      "metadata": {
        "id": "YqweWFO74Glw",
        "colab": {
          "base_uri": "https://localhost:8080/"
        },
        "outputId": "c0008b94-f002-4821-9f15-f9796070bf64"
      },
      "execution_count": 17,
      "outputs": [
        {
          "output_type": "stream",
          "name": "stdout",
          "text": [
            "Type error: can only concatenate str (not \"int\") to str\n"
          ]
        }
      ]
    },
    {
      "cell_type": "code",
      "source": [
        "class MyClass:\n",
        "    def __init__(self):\n",
        "        self.value = 42\n",
        "\n",
        "try:\n",
        "    obj = MyClass()\n",
        "    print(obj.non_existent_attribute)\n",
        "except AttributeError as e:\n",
        "    print(f\"Attribute error: {e}\")\n"
      ],
      "metadata": {
        "id": "F88xZXv44Gqd",
        "colab": {
          "base_uri": "https://localhost:8080/"
        },
        "outputId": "36e4669b-230f-458a-9bac-4390add5550d"
      },
      "execution_count": 18,
      "outputs": [
        {
          "output_type": "stream",
          "name": "stdout",
          "text": [
            "Attribute error: 'MyClass' object has no attribute 'non_existent_attribute'\n"
          ]
        }
      ]
    },
    {
      "cell_type": "code",
      "source": [
        "try:\n",
        "    print(undefined_variable)\n",
        "except NameError as e:\n",
        "    print(f\"Name error: {e}\")\n"
      ],
      "metadata": {
        "id": "Zg1Milta4GtT",
        "colab": {
          "base_uri": "https://localhost:8080/"
        },
        "outputId": "b2d2fdba-e706-446b-b304-efe1bb20552d"
      },
      "execution_count": 19,
      "outputs": [
        {
          "output_type": "stream",
          "name": "stdout",
          "text": [
            "Name error: name 'undefined_variable' is not defined\n"
          ]
        }
      ]
    },
    {
      "cell_type": "code",
      "source": [
        "try:\n",
        "    eval(\"print 'Hello, World'\")\n",
        "except SyntaxError as e:\n",
        "    print(f\"Syntax error: {e}\")\n"
      ],
      "metadata": {
        "id": "YVELcP-C4VpY",
        "colab": {
          "base_uri": "https://localhost:8080/"
        },
        "outputId": "11ee1b19-fc75-4b43-e7fd-fff0c266613e"
      },
      "execution_count": 20,
      "outputs": [
        {
          "output_type": "stream",
          "name": "stdout",
          "text": [
            "Syntax error: Missing parentheses in call to 'print'. Did you mean print(...)? (<string>, line 1)\n"
          ]
        }
      ]
    },
    {
      "cell_type": "code",
      "source": [
        "try:\n",
        "    result = 1 / 0\n",
        "except ZeroDivisionError as e:\n",
        "    print(f\"Error: {e}\")\n"
      ],
      "metadata": {
        "id": "xa6cMrMt4VxZ",
        "colab": {
          "base_uri": "https://localhost:8080/"
        },
        "outputId": "a6d8786c-e1fb-4dac-8922-9043a969ee6c"
      },
      "execution_count": 21,
      "outputs": [
        {
          "output_type": "stream",
          "name": "stdout",
          "text": [
            "Error: division by zero\n"
          ]
        }
      ]
    },
    {
      "cell_type": "markdown",
      "source": [
        "## **Catching Specific Exception/multiple exceptions:**\n",
        "A try statement can have more than one except clause, to specify handlers for different e\n",
        "xceptions."
      ],
      "metadata": {
        "id": "04g_SeW3UJUL"
      }
    },
    {
      "cell_type": "code",
      "source": [
        "try:\n",
        "# statement(s)\n",
        "except IndexError:\n",
        "# statement(s)\n",
        "except ValueError:\n",
        "# statement(s)"
      ],
      "metadata": {
        "id": "sWW1A4ISUMX7"
      },
      "execution_count": null,
      "outputs": []
    },
    {
      "cell_type": "code",
      "source": [
        "def fun(a):\n",
        "    if a < 4:\n",
        "        b = a / (a - 3)\n",
        "        print(b)\n",
        "\n",
        "try:\n",
        "    fun(3)\n",
        "    fun(v)\n",
        "except ZeroDivisionError:\n",
        "    print(\"ZeroDivisionError occurred\")\n",
        "except NameError:\n",
        "    print(\"NameError occurred\")\n"
      ],
      "metadata": {
        "colab": {
          "base_uri": "https://localhost:8080/"
        },
        "id": "5zI3bwSzUpNK",
        "outputId": "820600e3-9e0d-450a-99fc-1d940657b227"
      },
      "execution_count": 22,
      "outputs": [
        {
          "output_type": "stream",
          "name": "stdout",
          "text": [
            "ZeroDivisionError occurred\n"
          ]
        }
      ]
    },
    {
      "cell_type": "code",
      "source": [
        "def fun(a):\n",
        "    if a < 4:\n",
        "        b = a / (a - 3)\n",
        "        print(b)\n",
        "\n",
        "try:\n",
        "    fun(3)\n",
        "    fun(v)\n",
        "except (ZeroDivisionError, NameError):\n",
        "    print(\"Error occurred...\")\n"
      ],
      "metadata": {
        "colab": {
          "base_uri": "https://localhost:8080/"
        },
        "id": "ifAkjwrZVLPb",
        "outputId": "3bc710da-4a73-4bec-95af-976f03958e8c"
      },
      "execution_count": 23,
      "outputs": [
        {
          "output_type": "stream",
          "name": "stdout",
          "text": [
            "Error occurred...\n"
          ]
        }
      ]
    },
    {
      "cell_type": "code",
      "source": [
        "a = 10\n",
        "b = int(input(\"Enter number:\"))\n",
        "L = [1, 2, 3]\n",
        "c = \"maya\"\n",
        "\n",
        "try:\n",
        "    print(a / b)\n",
        "    print(L[0])\n",
        "    d = int(c)\n",
        "except ZeroDivisionError:\n",
        "    print(\"Division by zero error occurred.\")\n",
        "except IndexError:\n",
        "    print(\"Index out of range error occurred.\")\n",
        "except ValueError:\n",
        "    print(\"Value conversion error occurred.\")\n",
        "except Exception as e:\n",
        "    print(f\"An error occurred: {e}\")\n"
      ],
      "metadata": {
        "colab": {
          "base_uri": "https://localhost:8080/"
        },
        "id": "PzKYz91gVOqa",
        "outputId": "0dba0c94-5869-4f02-8615-553c063af4e7"
      },
      "execution_count": 24,
      "outputs": [
        {
          "output_type": "stream",
          "name": "stdout",
          "text": [
            "Enter number:2\n",
            "5.0\n",
            "1\n",
            "Value conversion error occurred.\n"
          ]
        }
      ]
    },
    {
      "cell_type": "markdown",
      "source": [
        "## **How to raise exceptions in python:**\n",
        "syntax: raise exception_class_name"
      ],
      "metadata": {
        "id": "-V_k-YWpamFv"
      }
    },
    {
      "cell_type": "code",
      "source": [
        "a = 10\n",
        "b = 0\n",
        "\n",
        "try:\n",
        "    if b == 0:\n",
        "        raise ZeroDivisionError\n",
        "except ZeroDivisionError:\n",
        "    print(\"Divided by zero\")\n"
      ],
      "metadata": {
        "colab": {
          "base_uri": "https://localhost:8080/"
        },
        "id": "tMl7fiE6apIO",
        "outputId": "84818928-fb62-45d0-c6a1-ba9bfa53f98e"
      },
      "execution_count": 25,
      "outputs": [
        {
          "output_type": "stream",
          "name": "stdout",
          "text": [
            "Divided by zero\n"
          ]
        }
      ]
    },
    {
      "cell_type": "code",
      "source": [
        "a = 10\n",
        "b = 0\n",
        "\n",
        "try:\n",
        "    if b == 0:\n",
        "        raise ZeroDivisionError(\"Divided by zero\")\n",
        "except ZeroDivisionError as e:\n",
        "    print(e)\n"
      ],
      "metadata": {
        "colab": {
          "base_uri": "https://localhost:8080/"
        },
        "id": "Ho_f3Ur4bLyY",
        "outputId": "126aae04-623a-49d0-de86-36a8662b384c"
      },
      "execution_count": 26,
      "outputs": [
        {
          "output_type": "stream",
          "name": "stdout",
          "text": [
            "Divided by zero\n"
          ]
        }
      ]
    },
    {
      "cell_type": "markdown",
      "source": [
        "## **User-defined Exceptions in Python:**\n",
        "Exceptions need to be derived from the Exception class, either directly or indirectly.\n",
        "\n",
        "Although not mandatory, most of the exceptions are named as names that end in “Error”\n",
        "similar to the naming of the standard exceptions in python."
      ],
      "metadata": {
        "id": "rDN9vmdCbViZ"
      }
    },
    {
      "cell_type": "code",
      "source": [
        "class VotingException(Exception):\n",
        "    pass\n",
        "\n",
        "age = int(input(\"Enter the age:\"))\n",
        "\n",
        "try:\n",
        "    if age < 0 or age <18:\n",
        "        raise VotingException(\"Not eligible for voting\")\n",
        "except VotingException as e:\n",
        "    print(e)\n"
      ],
      "metadata": {
        "colab": {
          "base_uri": "https://localhost:8080/"
        },
        "id": "LG-a6YXzbaAw",
        "outputId": "f96ff6f9-fd85-47c9-b398-423b147fd289"
      },
      "execution_count": 27,
      "outputs": [
        {
          "output_type": "stream",
          "name": "stdout",
          "text": [
            "Enter the age:12\n",
            "Not eligible for voting\n"
          ]
        }
      ]
    },
    {
      "cell_type": "code",
      "source": [
        "class VotingException(Exception):\n",
        "    pass\n",
        "\n",
        "age = int(input(\"Enter the age:\"))\n",
        "\n",
        "try:\n",
        "    if age < 0 or age < 18:\n",
        "        raise VotingException(\"Not eligible for voting\")\n",
        "    print(\"Eligible for voting\")\n",
        "except VotingException:\n",
        "    print(\"Age should be greater than or equal to 18\")\n"
      ],
      "metadata": {
        "id": "PH-aowA7cX8H",
        "outputId": "9cc3f900-60ca-4eac-fe98-ab02f089b68a",
        "colab": {
          "base_uri": "https://localhost:8080/"
        }
      },
      "execution_count": 28,
      "outputs": [
        {
          "output_type": "stream",
          "name": "stdout",
          "text": [
            "Enter the age:12\n",
            "Age should be greater than or equal to 18\n"
          ]
        }
      ]
    },
    {
      "cell_type": "markdown",
      "source": [
        "## **For practice:**\n",
        "\n",
        "1. Imagine you're writing a program that asks the user for their age. What kind of exception could happen if the user enters their age as a string instead of a number?\n",
        "\n",
        "2. You're building a calculator app, and the user needs to input two numbers to perform a calculation. What type of exception might occur if the user enters a non-numeric value instead?\n",
        "\n",
        "3. Your program is reading data from a file. What kind of exception should you be prepared for if the file doesn't exist?\n",
        "\n",
        "4. You're writing a function that divides two numbers. What type of exception could occur if the second number (denominator) is zero?\n",
        "\n",
        "5. In your program, you're trying to access an element from a list at an index that doesn't exist. What kind of exception could be raised in this situation?\n",
        "\n",
        "6. You're using a library that requires an internet connection. What kind of exception might you need to handle if the library can't establish a connection to the internet?"
      ],
      "metadata": {
        "id": "N3GZijmArxWd"
      }
    },
    {
      "cell_type": "code",
      "source": [
        "try:\n",
        "    age = int(input(\"Please enter your age: \"))\n",
        "except ValueError:\n",
        "    print(\"Invalid input. Please enter a valid number.\")\n"
      ],
      "metadata": {
        "colab": {
          "base_uri": "https://localhost:8080/"
        },
        "id": "sqA3YLN-r9dk",
        "outputId": "d693a6c9-eee8-4b29-e9b9-44c6fa21629f"
      },
      "execution_count": 29,
      "outputs": [
        {
          "name": "stdout",
          "output_type": "stream",
          "text": [
            "Please enter your age: 12\n"
          ]
        }
      ]
    },
    {
      "cell_type": "code",
      "source": [
        "try:\n",
        "    num1 = float(input(\"Enter the first number: \"))\n",
        "    num2 = float(input(\"Enter the second number: \"))\n",
        "    result = num1 / num2\n",
        "except ValueError:\n",
        "    print(\"Invalid input. Please enter valid numbers.\")\n",
        "except ZeroDivisionError:\n",
        "    print(\"Division by zero is not allowed.\")\n"
      ],
      "metadata": {
        "colab": {
          "base_uri": "https://localhost:8080/"
        },
        "id": "Q2vRPcgEr-lE",
        "outputId": "2297d8c0-f1d7-48ca-fb3e-09a1d962341e"
      },
      "execution_count": 30,
      "outputs": [
        {
          "output_type": "stream",
          "name": "stdout",
          "text": [
            "Enter the first number: 10\n",
            "Enter the second number: 0\n",
            "Division by zero is not allowed.\n"
          ]
        }
      ]
    },
    {
      "cell_type": "code",
      "source": [
        "try:\n",
        "    with open(\"data.txt\", \"r\") as file:\n",
        "        content = file.read()\n",
        "except FileNotFoundError:\n",
        "    print(\"The file does not exist.\")\n"
      ],
      "metadata": {
        "colab": {
          "base_uri": "https://localhost:8080/"
        },
        "id": "HLLeVfuer-sl",
        "outputId": "5deb98f1-c017-40d7-8a8f-b87e7d21a379"
      },
      "execution_count": 31,
      "outputs": [
        {
          "output_type": "stream",
          "name": "stdout",
          "text": [
            "The file does not exist.\n"
          ]
        }
      ]
    },
    {
      "cell_type": "code",
      "source": [
        "try:\n",
        "    numerator = int(input(\"Enter the numerator: \"))\n",
        "    denominator = int(input(\"Enter the denominator: \"))\n",
        "    result = numerator / denominator\n",
        "except ZeroDivisionError:\n",
        "    print(\"Division by zero is not allowed.\")\n",
        "except ValueError:\n",
        "    print(\"Invalid input. Please enter valid numbers.\")\n"
      ],
      "metadata": {
        "colab": {
          "base_uri": "https://localhost:8080/"
        },
        "id": "KgLySrUdr-0M",
        "outputId": "b47c278a-90bf-40fa-fad0-aafa25172168"
      },
      "execution_count": 32,
      "outputs": [
        {
          "output_type": "stream",
          "name": "stdout",
          "text": [
            "Enter the numerator: 12\n",
            "Enter the denominator: 0\n",
            "Division by zero is not allowed.\n"
          ]
        }
      ]
    },
    {
      "cell_type": "code",
      "source": [
        "my_list = [1, 2, 3]\n",
        "try:\n",
        "    index = int(input(\"Enter an index: \"))\n",
        "    value = my_list[index]\n",
        "except IndexError:\n",
        "    print(\"Index out of range. Please enter a valid index.\")\n",
        "except ValueError:\n",
        "    print(\"Invalid input. Please enter a valid index number.\")\n"
      ],
      "metadata": {
        "colab": {
          "base_uri": "https://localhost:8080/"
        },
        "id": "Fas5iZQYr-8E",
        "outputId": "e5c09458-5ed0-4f9d-c73a-f6216e5f705a"
      },
      "execution_count": 33,
      "outputs": [
        {
          "output_type": "stream",
          "name": "stdout",
          "text": [
            "Enter an index: 23\n",
            "Index out of range. Please enter a valid index.\n"
          ]
        }
      ]
    },
    {
      "cell_type": "code",
      "source": [
        "import requests\n",
        "\n",
        "try:\n",
        "    response = requests.get(\"https://www.mat.com\")\n",
        "    if response.status_code == 200:\n",
        "        print(\"Connection successful.\")\n",
        "    else:\n",
        "        print(\"Connection failed.\")\n",
        "except requests.ConnectionError:\n",
        "    print(\"Could not establish a connection to the internet.\")\n"
      ],
      "metadata": {
        "colab": {
          "base_uri": "https://localhost:8080/"
        },
        "id": "4Ch6vwPGr_LU",
        "outputId": "43f93448-eb08-4383-d868-37db0dfbf6ca"
      },
      "execution_count": 34,
      "outputs": [
        {
          "output_type": "stream",
          "name": "stdout",
          "text": [
            "Could not establish a connection to the internet.\n"
          ]
        }
      ]
    },
    {
      "cell_type": "markdown",
      "source": [
        "for practice:\n",
        "\n",
        "\n",
        "1.\tWrite a Python program that generates a ZeroDivisionError and handle it gracefully.\n",
        "2.\tHow do you handle multiple exceptions in a single try block?\n",
        "3.\tExplain the purpose of the finally block in exception handling and provide an example.\n",
        "4.\tWrite a Python program that raises a custom exception and catches it.\n",
        "5.\tWhat is the difference between the except clause and the else clause in a try block?\n",
        "6.\tWrite a program that reads a file and handles FileNotFoundError and PermissionError exceptions.\n",
        "7.\tHow do you re-raise an exception while preserving the original traceback information?\n",
        "8.\tExplain the use of the assert statement for exception handling and provide an example.\n",
        "9.\tWrite a program that handles an IndexError when accessing a list element out of bounds.\n",
        "10.\tHow do you create and handle a custom exception class in Python?\n",
        "11.\tWrite a program that reads user input and handles ValueError if the input cannot be converted to an integer.\n",
        "12.\tExplain the concept of exception propagation in Python.\n",
        "13.\tWrite a program that demonstrates the use of the with statement for handling exceptions with context managers.\n",
        "14.\tHow can you handle exceptions raised in a multi-threaded Python application?\n",
        "15.\tWrite a program that uses the try-except block to handle a KeyboardInterrupt gracefully.\n",
        "16.\tWhat is the purpose of the sys.exc_info() function, and how can it be used for exception handling?\n",
        "17.\tWrite a program that demonstrates the use of the warnings module for handling warnings as exceptions.\n",
        "18.\tHow do you handle exceptions in a Python web application using frameworks like Flask or Django?\n",
        "19.\tExplain the differences between the except Exception as e and except Exception, e syntax for exception handling.\n",
        "20.\tWrite a program that handles a MemoryError exception and frees up memory resources.\n"
      ],
      "metadata": {
        "id": "Dr7I7ip62DIC"
      }
    },
    {
      "cell_type": "code",
      "source": [
        "try:\n",
        "    result = 5 / 0\n",
        "except ZeroDivisionError as e:\n",
        "    print(f\"Error: {e}\")\n"
      ],
      "metadata": {
        "id": "-0oLT3oU2FcA",
        "colab": {
          "base_uri": "https://localhost:8080/"
        },
        "outputId": "f4b8fe89-7537-43c8-e919-72725646d4ea"
      },
      "execution_count": 35,
      "outputs": [
        {
          "output_type": "stream",
          "name": "stdout",
          "text": [
            "Error: division by zero\n"
          ]
        }
      ]
    },
    {
      "cell_type": "code",
      "source": [
        "try:\n",
        "    # Code that may raise exceptions\n",
        "except (ExceptionType1, ExceptionType2) as e:\n",
        "    # Handle exceptions\n"
      ],
      "metadata": {
        "id": "nlbrTufZ2zjy",
        "collapsed": true
      },
      "execution_count": null,
      "outputs": []
    },
    {
      "cell_type": "code",
      "source": [
        "try:\n",
        "    # Code that may raise exceptions\n",
        "except ExceptionType as e:\n",
        "    # Handle exceptions\n",
        "finally:\n",
        "    # Code that always executes\n"
      ],
      "metadata": {
        "id": "WRhtlcs72zrp"
      },
      "execution_count": null,
      "outputs": []
    },
    {
      "cell_type": "code",
      "source": [
        "class CustomException(Exception):\n",
        "    pass\n",
        "\n",
        "try:\n",
        "    raise CustomException(\"This is a custom exception.\")\n",
        "except CustomException as e:\n",
        "    print(f\"Custom Exception: {e}\")\n"
      ],
      "metadata": {
        "id": "e00uhPaR2zuJ",
        "colab": {
          "base_uri": "https://localhost:8080/"
        },
        "outputId": "9a4645ce-8baa-41b5-cbc4-dbdfe19c0331"
      },
      "execution_count": 37,
      "outputs": [
        {
          "output_type": "stream",
          "name": "stdout",
          "text": [
            "Custom Exception: This is a custom exception.\n"
          ]
        }
      ]
    },
    {
      "cell_type": "code",
      "source": [
        "try:\n",
        "    # Code that may raise exceptions\n",
        "except ExceptionType as e:\n",
        "    # Handle exceptions\n",
        "else:\n",
        "    # Code to run if no exceptions occur\n"
      ],
      "metadata": {
        "id": "c-Ts4-Z22zwh"
      },
      "execution_count": null,
      "outputs": []
    },
    {
      "cell_type": "code",
      "source": [
        "try:\n",
        "    with open(\"file.txt\", \"r\") as file:\n",
        "        content = file.read()\n",
        "except FileNotFoundError as e:\n",
        "    print(f\"File not found: {e}\")\n",
        "except PermissionError as e:\n",
        "    print(f\"Permission error: {e}\")\n"
      ],
      "metadata": {
        "id": "25bj_CPU2zyi",
        "colab": {
          "base_uri": "https://localhost:8080/"
        },
        "outputId": "14a5c93c-52a0-41da-99a4-924c95c0a50c"
      },
      "execution_count": 38,
      "outputs": [
        {
          "output_type": "stream",
          "name": "stdout",
          "text": [
            "File not found: [Errno 2] No such file or directory: 'file.txt'\n"
          ]
        }
      ]
    },
    {
      "cell_type": "code",
      "source": [
        "try:\n",
        "    # Code that may raise an exception\n",
        "except ExceptionType as e:\n",
        "    # Handle the exception\n",
        "    raise  # Re-raise the exception\n"
      ],
      "metadata": {
        "id": "HD1GdJq02z0u"
      },
      "execution_count": null,
      "outputs": []
    },
    {
      "cell_type": "code",
      "source": [
        "x = 5\n",
        "assert x > 10, \"x is not greater than 10\"\n"
      ],
      "metadata": {
        "id": "WrVFNgrv2z2y"
      },
      "execution_count": null,
      "outputs": []
    },
    {
      "cell_type": "code",
      "source": [
        "my_list = [1, 2, 3]\n",
        "try:\n",
        "    value = my_list[5]\n",
        "except IndexError as e:\n",
        "    print(f\"Index error: {e}\")\n"
      ],
      "metadata": {
        "id": "CFEyyEFp3BE6",
        "colab": {
          "base_uri": "https://localhost:8080/"
        },
        "outputId": "5033d965-90e9-4795-d755-45fd8193ca76"
      },
      "execution_count": 40,
      "outputs": [
        {
          "output_type": "stream",
          "name": "stdout",
          "text": [
            "Index error: list index out of range\n"
          ]
        }
      ]
    },
    {
      "cell_type": "code",
      "source": [
        "class CustomException(Exception):\n",
        "    pass\n",
        "\n",
        "try:\n",
        "    raise CustomException(\"This is a custom exception.\")\n",
        "except CustomException as e:\n",
        "    print(f\"Custom Exception: {e}\")\n"
      ],
      "metadata": {
        "id": "DWrP2TFk3BNJ",
        "colab": {
          "base_uri": "https://localhost:8080/"
        },
        "outputId": "bf6c96b2-6db9-4463-92b9-34df28373dcb"
      },
      "execution_count": 41,
      "outputs": [
        {
          "output_type": "stream",
          "name": "stdout",
          "text": [
            "Custom Exception: This is a custom exception.\n"
          ]
        }
      ]
    },
    {
      "cell_type": "code",
      "source": [
        "try:\n",
        "    user_input = int(input(\"Enter an integer: \"))\n",
        "except ValueError as e:\n",
        "    print(f\"Value error: {e}\")\n"
      ],
      "metadata": {
        "id": "NLyfFIkh3BPt",
        "colab": {
          "base_uri": "https://localhost:8080/"
        },
        "outputId": "714caf33-2491-49c6-f63e-21f40ad6ace5"
      },
      "execution_count": 42,
      "outputs": [
        {
          "name": "stdout",
          "output_type": "stream",
          "text": [
            "Enter an integer: 12\n"
          ]
        }
      ]
    },
    {
      "cell_type": "markdown",
      "source": [
        "Explain the concept of exception propagation in Python.\n",
        "Exception propagation refers to the process by which an exception can be raised in one part of the code and propagated up the call stack to be handled at a higher level of the program."
      ],
      "metadata": {
        "id": "8fyRmzfx3Jfj"
      }
    },
    {
      "cell_type": "code",
      "source": [
        "class MyContext:\n",
        "    def __enter__(self):\n",
        "        print(\"Entering the context\")\n",
        "        return self\n",
        "\n",
        "    def __exit__(self, exc_type, exc_value, traceback):\n",
        "        print(\"Exiting the context\")\n",
        "        if exc_type is not None:\n",
        "            print(f\"Exception: {exc_type}, {exc_value}\")\n",
        "\n",
        "with MyContext():\n",
        "    print(\"Inside the context\")\n",
        "    x = 1 / 0\n"
      ],
      "metadata": {
        "id": "tc0JAY7o3BSn",
        "colab": {
          "base_uri": "https://localhost:8080/",
          "height": 245
        },
        "outputId": "d050db25-8535-4a48-ed46-62636a09bbeb"
      },
      "execution_count": 43,
      "outputs": [
        {
          "output_type": "stream",
          "name": "stdout",
          "text": [
            "Entering the context\n",
            "Inside the context\n",
            "Exiting the context\n",
            "Exception: <class 'ZeroDivisionError'>, division by zero\n"
          ]
        },
        {
          "output_type": "error",
          "ename": "ZeroDivisionError",
          "evalue": "division by zero",
          "traceback": [
            "\u001b[0;31m---------------------------------------------------------------------------\u001b[0m",
            "\u001b[0;31mZeroDivisionError\u001b[0m                         Traceback (most recent call last)",
            "\u001b[0;32m<ipython-input-43-23cc8fd33fa1>\u001b[0m in \u001b[0;36m<cell line: 11>\u001b[0;34m()\u001b[0m\n\u001b[1;32m     11\u001b[0m \u001b[0;32mwith\u001b[0m \u001b[0mMyContext\u001b[0m\u001b[0;34m(\u001b[0m\u001b[0;34m)\u001b[0m\u001b[0;34m:\u001b[0m\u001b[0;34m\u001b[0m\u001b[0;34m\u001b[0m\u001b[0m\n\u001b[1;32m     12\u001b[0m     \u001b[0mprint\u001b[0m\u001b[0;34m(\u001b[0m\u001b[0;34m\"Inside the context\"\u001b[0m\u001b[0;34m)\u001b[0m\u001b[0;34m\u001b[0m\u001b[0;34m\u001b[0m\u001b[0m\n\u001b[0;32m---> 13\u001b[0;31m     \u001b[0mx\u001b[0m \u001b[0;34m=\u001b[0m \u001b[0;36m1\u001b[0m \u001b[0;34m/\u001b[0m \u001b[0;36m0\u001b[0m\u001b[0;34m\u001b[0m\u001b[0;34m\u001b[0m\u001b[0m\n\u001b[0m",
            "\u001b[0;31mZeroDivisionError\u001b[0m: division by zero"
          ]
        }
      ]
    },
    {
      "cell_type": "markdown",
      "source": [
        "How can you handle exceptions raised in a multi-threaded Python application?\n",
        "You can use try-except blocks inside each thread's code to handle exceptions. Additionally, consider using synchronization primitives to avoid thread-related issues."
      ],
      "metadata": {
        "id": "ScaJJPMq3OyC"
      }
    },
    {
      "cell_type": "code",
      "source": [
        "try:\n",
        "    while True:\n",
        "        pass\n",
        "except KeyboardInterrupt:\n",
        "    print(\"KeyboardInterrupt caught. Exiting gracefully.\")\n"
      ],
      "metadata": {
        "id": "0EGc2Sd_3BWR",
        "colab": {
          "base_uri": "https://localhost:8080/"
        },
        "outputId": "a3efa366-ee9d-4d0b-f3b0-6443c1989065"
      },
      "execution_count": 44,
      "outputs": [
        {
          "output_type": "stream",
          "name": "stdout",
          "text": [
            "KeyboardInterrupt caught. Exiting gracefully.\n"
          ]
        }
      ]
    },
    {
      "cell_type": "markdown",
      "source": [
        "What is the purpose of the sys.exc_info() function, and how can it be used for exception handling?\n",
        "sys.exc_info() returns a tuple containing information about the current exception. It can be used to access the exception type, value, and traceback for further processing or logging."
      ],
      "metadata": {
        "id": "_Avys9LH3UX4"
      }
    },
    {
      "cell_type": "code",
      "source": [
        "import warnings\n",
        "\n",
        "def foo():\n",
        "    warnings.warn(\"This is a warning\", UserWarning)\n",
        "\n",
        "try:\n",
        "    foo()\n",
        "except warnings.Warning as e:\n",
        "    print(f\"Warning caught: {e}\")\n"
      ],
      "metadata": {
        "id": "bEooqu_y3R2B",
        "colab": {
          "base_uri": "https://localhost:8080/"
        },
        "outputId": "2a168d65-6a8d-476c-da02-3a843a4e8a5b"
      },
      "execution_count": 45,
      "outputs": [
        {
          "output_type": "stream",
          "name": "stderr",
          "text": [
            "<ipython-input-45-e7470a0b1be0>:4: UserWarning: This is a warning\n",
            "  warnings.warn(\"This is a warning\", UserWarning)\n"
          ]
        }
      ]
    },
    {
      "cell_type": "markdown",
      "source": [
        "18.\tHow do you handle exceptions in a Python web application using frameworks like Flask or Django? Web frameworks like Flask and Django often provide mechanisms to handle exceptions globally, such as custom error handlers and middleware.\n",
        "19.\tExplain the differences between the except Exception as e and except Exception, e syntax for exception handling.\n",
        "•\texcept Exception as e: This syntax captures the exception instance in the variable e.\n",
        "•\texcept Exception, e: This syntax is used in Python 2 and captures the exception type in the variable Exception and the exception instance in the variable e.\n",
        "20.\tWrite a program that handles a MemoryError exception and frees up memory resources. Handling a MemoryError can be challenging because Python often can't recover from it. However, you can try to release memory manually, such as closing files or releasing large data structures, but it's not guaranteed to work.\n",
        "\n"
      ],
      "metadata": {
        "id": "IonrK4J93ezQ"
      }
    }
  ]
}