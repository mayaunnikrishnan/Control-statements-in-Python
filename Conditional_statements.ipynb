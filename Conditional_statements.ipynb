{
  "nbformat": 4,
  "nbformat_minor": 0,
  "metadata": {
    "colab": {
      "provenance": []
    },
    "kernelspec": {
      "name": "python3",
      "display_name": "Python 3"
    },
    "language_info": {
      "name": "python"
    }
  },
  "cells": [
    {
      "cell_type": "markdown",
      "source": [
        "# **Conditional Statement**:\n",
        "\n",
        "Decision-making statements in programming languages decide the direction of the flow of program\n",
        "execution. In Python, if-else-elif statement is used for decision making.\n"
      ],
      "metadata": {
        "id": "_yxGhe6mxyb3"
      }
    },
    {
      "cell_type": "markdown",
      "source": [
        "## **if_statement:**"
      ],
      "metadata": {
        "id": "OYaJo11-zyi2"
      }
    },
    {
      "cell_type": "code",
      "execution_count": null,
      "metadata": {
        "id": "Eg_uGc84xT5J"
      },
      "outputs": [],
      "source": [
        "Syntax:\n",
        "if condition:\n",
        "    # Statements to execute if condition is true\n"
      ]
    },
    {
      "cell_type": "code",
      "source": [
        "i=16\n",
        "if i>15:\n",
        "    print(\"10 is less than 15\")"
      ],
      "metadata": {
        "colab": {
          "base_uri": "https://localhost:8080/"
        },
        "id": "TU0ofql3yu9v",
        "outputId": "791cbf13-f46b-4837-e9dc-1540ac5fbde4"
      },
      "execution_count": null,
      "outputs": [
        {
          "output_type": "stream",
          "name": "stdout",
          "text": [
            "10 is less than 15\n"
          ]
        }
      ]
    },
    {
      "cell_type": "code",
      "source": [
        "if condition:\n",
        "    statement1\n",
        "statement2\n",
        "# Here if the condition is true, if block\n",
        "# will consider only statement1 to be inside\n",
        "# its block."
      ],
      "metadata": {
        "id": "15hHRPI7yTWv"
      },
      "execution_count": null,
      "outputs": []
    },
    {
      "cell_type": "code",
      "source": [
        "i=10\n",
        "if i>15:\n",
        "    print(\"10<15\")\n",
        "print(\"im not in if loop and i will execute without a condition\")"
      ],
      "metadata": {
        "colab": {
          "base_uri": "https://localhost:8080/"
        },
        "id": "pZaX9LrmyTY-",
        "outputId": "82b77495-241a-4e35-e1f6-0fb50e931410"
      },
      "execution_count": null,
      "outputs": [
        {
          "output_type": "stream",
          "name": "stdout",
          "text": [
            "im not in if loop and i will execute without a condition\n"
          ]
        }
      ]
    },
    {
      "cell_type": "code",
      "source": [
        "i=16\n",
        "if i<15:\n",
        "    print(\"10<15\")\n",
        "print(\"im not in if loop and i will execute without a condition\")"
      ],
      "metadata": {
        "colab": {
          "base_uri": "https://localhost:8080/"
        },
        "id": "3nSVFsH-yTbW",
        "outputId": "649deaa4-0266-439f-915b-a3ad723e26fc"
      },
      "execution_count": null,
      "outputs": [
        {
          "output_type": "stream",
          "name": "stdout",
          "text": [
            "im not in if loop and i will execute without a condition\n"
          ]
        }
      ]
    },
    {
      "cell_type": "markdown",
      "source": [
        "**for practice:**\n",
        "\n",
        "Example 1: Check if a Number is Positive\n",
        "\n",
        "Example 2: Check if a Number is Even\n",
        "\n",
        "Example 3: Check if a Number is Less Than 100\n",
        "\n",
        "Example 4: Check if a String is Empty\n",
        "\n",
        "Example 5: Check if a List is Not Empty\n"
      ],
      "metadata": {
        "id": "soDhdRL_NkqR"
      }
    },
    {
      "cell_type": "markdown",
      "source": [
        "## **if_else statement:**"
      ],
      "metadata": {
        "id": "U9kcKzXSzqiH"
      }
    },
    {
      "cell_type": "code",
      "source": [
        "Syntax:\n",
        "if (condition):\n",
        "   # Executes this block if condition is True\n",
        "else:\n",
        "   # Executes this block if condition is false"
      ],
      "metadata": {
        "id": "0hbTqdI1yTdu"
      },
      "execution_count": null,
      "outputs": []
    },
    {
      "cell_type": "code",
      "source": [
        "number=int(input(\"Enter the number: \"))\n",
        "if number<15:\n",
        "    print(f\"the number {number} is less than 15\")\n",
        "else:\n",
        "    print(f\"the number {number} is greater than 15\")\n",
        "print(\"i'm not under any condition\")"
      ],
      "metadata": {
        "id": "qHTYWDGUyTiW",
        "colab": {
          "base_uri": "https://localhost:8080/"
        },
        "outputId": "723b5ca8-c7f7-430a-e4b4-0d8e4e16b8e8"
      },
      "execution_count": null,
      "outputs": [
        {
          "output_type": "stream",
          "name": "stdout",
          "text": [
            "Enter the number: 20\n",
            "the number 20 is greater than 15\n",
            "i'm not under any condition\n"
          ]
        }
      ]
    },
    {
      "cell_type": "code",
      "source": [
        "#EVEN NUMBER CHECK\n",
        "number=int(input(\"Enter the number : \"))\n",
        "if number%2==0:\n",
        "    print(f\"{number} is even number\")\n",
        "else:\n",
        "    print(f\"{number} is odd number\")"
      ],
      "metadata": {
        "colab": {
          "base_uri": "https://localhost:8080/"
        },
        "id": "1cVX24oI9Kga",
        "outputId": "8931751f-4197-4398-c4c5-2ebe3759e328"
      },
      "execution_count": null,
      "outputs": [
        {
          "output_type": "stream",
          "name": "stdout",
          "text": [
            "Enter the number : 0\n",
            "0 is even number\n"
          ]
        }
      ]
    },
    {
      "cell_type": "markdown",
      "source": [
        "**for practice:**\n",
        "\n",
        "Question 1: Check if a Number is Positive or Negative\n",
        "\n",
        "Question 2: Determine the Bigger Number\n",
        "\n",
        "Question 3: Check if a Year is Leap Year or Not\n",
        "\n",
        "Question 4: Check if a Year is a Century Year\n",
        "\n",
        "Question 5: Check if a Number is Even or Odd"
      ],
      "metadata": {
        "id": "ME4IAgbfQMgY"
      }
    },
    {
      "cell_type": "markdown",
      "source": [
        "## **if-elif-else ladder:**"
      ],
      "metadata": {
        "id": "tQ2IJEnv1B7U"
      }
    },
    {
      "cell_type": "code",
      "source": [
        "number=int(input(\"Enter the number: \"))\n",
        "if number<15:\n",
        "    print(f\"the number {number} is less than 15\")\n",
        "elif number >15:\n",
        "    print(f\"the number {number} is greater than 15\")\n",
        "else:\n",
        "    print(f\"the given number is 15 itself\")\n",
        "print(\"i'm not under any condition\")"
      ],
      "metadata": {
        "colab": {
          "base_uri": "https://localhost:8080/"
        },
        "id": "SwpbGuLQ1Kuc",
        "outputId": "7eea3cb4-f457-4dd1-ce37-8d3da3edc89e"
      },
      "execution_count": null,
      "outputs": [
        {
          "output_type": "stream",
          "name": "stdout",
          "text": [
            "Enter the number: 15\n",
            "the given number is 15 itself\n",
            "i'm not under any condition\n"
          ]
        }
      ]
    },
    {
      "cell_type": "markdown",
      "source": [
        "**for practice**\n",
        "\n",
        "Question 1: Check if a Number is Positive, Negative, or Zero\n",
        "\n",
        "Take an integer input from the user. Print whether the number is positive, negative, or zero.\n",
        "\n",
        "Question 2: Determine the Bigger Number among Three\n",
        "\n",
        "Take three integer inputs from the user. Print the bigger of the three numbers.\n",
        "\n",
        "Question 3: Categorize Age Groups\n",
        "\n",
        "Take a person's age as input. Categorize and print the person's age group: \"Child\" (0-12), \"Teen\" (13-19), \"Adult\" (20-59), or \"Senior\" (60 and above).\n",
        "\n",
        "Question 4: Check Pass or Fail\n",
        "\n",
        "Take a student's score as input. Print \"Pass\" if the score is 50 or above, otherwise print \"Fail\".\n",
        "\n",
        "Question 5: Determine Quadrant\n",
        "\n",
        "Take the x and y coordinates of a point as input. Determine and print which quadrant the point lies in: 1st, 2nd, 3rd, or 4th quadrant."
      ],
      "metadata": {
        "id": "rGZHfksuR3jo"
      }
    },
    {
      "cell_type": "markdown",
      "source": [
        "### **Short Hand if statement:**"
      ],
      "metadata": {
        "id": "9KmdaT9O6MhD"
      }
    },
    {
      "cell_type": "code",
      "source": [
        "Syntax:\n",
        "if condition: statement"
      ],
      "metadata": {
        "id": "Idj2kOJB6Ql0"
      },
      "execution_count": null,
      "outputs": []
    },
    {
      "cell_type": "code",
      "source": [
        "number=int(input(\"Enter the number : \"))\n",
        "if number<15 : print(f\"{number} is less than 15\")"
      ],
      "metadata": {
        "colab": {
          "base_uri": "https://localhost:8080/"
        },
        "id": "zjcek1lc6TyE",
        "outputId": "e9d0b138-b84b-47ae-ed2f-2fbf56bfaa08"
      },
      "execution_count": null,
      "outputs": [
        {
          "output_type": "stream",
          "name": "stdout",
          "text": [
            "Enter the number : 13\n",
            "13 is less than 15\n"
          ]
        }
      ]
    },
    {
      "cell_type": "markdown",
      "source": [
        "### **if_else statement in comprehension:**"
      ],
      "metadata": {
        "id": "C9aykMu02faV"
      }
    },
    {
      "cell_type": "code",
      "source": [
        "number=int(input(\"Enter the number : \"))\n",
        "print(f\"{number} is less than or equal to 15\") if number<=15 else print(f\"the {number} is greater than 15\")"
      ],
      "metadata": {
        "colab": {
          "base_uri": "https://localhost:8080/"
        },
        "id": "Nps7ix9l2rDa",
        "outputId": "28f71ca7-919c-4718-fd8d-2f9d18fc7947"
      },
      "execution_count": null,
      "outputs": [
        {
          "output_type": "stream",
          "name": "stdout",
          "text": [
            "Enter the number : 15\n",
            "15 is less than or equal to 15\n"
          ]
        }
      ]
    },
    {
      "cell_type": "markdown",
      "source": [
        "**for practice:**\n",
        " Question 1: Check if a Number is Positive or Negative\n",
        "\n",
        "Take an integer input from the user. Print whether the number is positive or negative using the shorthand if-else statement.\n",
        "\n",
        "Question 2: Determine the Bigger Number\n",
        "\n",
        "Take two integer inputs from the user. Print the bigger of the two numbers using the shorthand if-else statement.\n",
        "\n",
        "Question 3: Check Pass or Fail\n",
        "\n",
        "Take a student's score as input. Print \"Pass\" if the score is 50 or above, otherwise print \"Fail\" using the shorthand if-else statement.\n",
        "\n",
        "Question 4: Determine Quadrant\n",
        "\n",
        "Take the x and y coordinates of a point as input. Determine and print which quadrant the point lies in (1st, 2nd, 3rd, or 4th quadrant) using the shorthand if-else statement.\n"
      ],
      "metadata": {
        "id": "-0xGjvQrTqN_"
      }
    },
    {
      "cell_type": "markdown",
      "source": [
        "## **Nested_if statement:**"
      ],
      "metadata": {
        "id": "7frJiplo3uCc"
      }
    },
    {
      "cell_type": "code",
      "source": [
        "Syntax:\n",
        "if (condition1):\n",
        "   # Executes when condition1 is true\n",
        "   if (condition2):\n",
        "       # Executes when condition2 is true\n",
        "   # if Block is end here\n",
        "# if Block is end here"
      ],
      "metadata": {
        "id": "wzIFeugC31db"
      },
      "execution_count": null,
      "outputs": []
    },
    {
      "cell_type": "code",
      "source": [
        "number=int(input(\"Enter the number : \"))\n",
        "if number<=15:\n",
        "    print(f\"{number} is less than or equal to 15\")\n",
        "    if number==15:\n",
        "        print(\"The given number is 15 itself\")\n",
        "else:\n",
        "    print(f\"{number} is greater than 15\")\n",
        "\n"
      ],
      "metadata": {
        "colab": {
          "base_uri": "https://localhost:8080/"
        },
        "id": "jMLFchOJ4OfN",
        "outputId": "53870e9f-0c51-440c-a294-679342dbffc8"
      },
      "execution_count": null,
      "outputs": [
        {
          "output_type": "stream",
          "name": "stdout",
          "text": [
            "Enter the number : 16\n",
            "16 is greater than 15\n"
          ]
        }
      ]
    },
    {
      "cell_type": "code",
      "source": [
        "#EVEN NUMBER CHECK\n",
        "number=int(input(\"Enter the number : \"))\n",
        "if number<=10:\n",
        "    if number%2==0:\n",
        "        print(f\"{number} is even\")\n",
        "    else:\n",
        "        print(f\"{number} is odd\")\n",
        "else:\n",
        "    print(f\"{number} is greater than 10\")"
      ],
      "metadata": {
        "colab": {
          "base_uri": "https://localhost:8080/"
        },
        "id": "9toeezgK6wZj",
        "outputId": "9d92e3bc-027d-4404-9c7c-fc8dbcd052e3"
      },
      "execution_count": null,
      "outputs": [
        {
          "output_type": "stream",
          "name": "stdout",
          "text": [
            "Enter the number : 9\n",
            "9 is odd\n"
          ]
        }
      ]
    },
    {
      "cell_type": "markdown",
      "source": [
        "**for practice**\n",
        "\n",
        "**Question 1: Categorize Age and Gender**\n",
        "\n",
        "Question: Take a person's age and gender as input. Categorize and print the person's age group: \"Child\" (0-12), \"Teen\" (13-19), \"Adult\" (20-59), or \"Senior\" (60 and above), along with \"Male\" or \"Female\".\n",
        "\n",
        "**Question 2: Find the Maximum of Three Numbers**\n",
        "\n",
        "Question: Take three integer inputs from the user. Find and print the maximum of the three numbers.\n",
        "\n",
        "**Question 3: Determine Discount Based on Quantity**\n",
        "\n",
        "Question: Take the quantity of items purchased as input. Determine the discount amount based on the following criteria: no discount for 1-2 items, 10% discount for 3-5 items, and 20% discount for 6 or more items.\n",
        "\n",
        "**Question 4: Determine Grade with Bonus Points**\n",
        "\n",
        "Question: Take a student's score as input. Add bonus points based on the score range: 5 bonus points if the score is 90 or above, 2 bonus points if the score is 80-89, and no bonus points otherwise. Print the final score.\n",
        "\n",
        "**Question 5: Determine Student's Performance**\n",
        "\n",
        "Question: Take a student's score as input. Determine and print the student's performance level: \"Excellent\" for 90 and above, \"Good\" for 80-89, \"Average\" for 70-79, and \"Needs Improvement\" for below 70.\n",
        "\n"
      ],
      "metadata": {
        "id": "lqbvaBFeU1oe"
      }
    },
    {
      "cell_type": "markdown",
      "source": [
        "# **Control flow statements (Loops):**\n",
        "The loops in Python are:\n",
        "\n",
        "1.For and for-else loop\n",
        "\n",
        "2.While and while-else loop"
      ],
      "metadata": {
        "id": "JSc_i2QR_lbp"
      }
    },
    {
      "cell_type": "markdown",
      "source": [
        "## **Python For Loops**\n",
        "it is used for iterating over an iterable like String, Tuple, List, Set or Dictionary.\n",
        "\n",
        "\n"
      ],
      "metadata": {
        "id": "Mc6ARY9V_7xp"
      }
    },
    {
      "cell_type": "code",
      "source": [
        "For Loops Syntax\n",
        "for var in iterable:\n",
        "    # statements"
      ],
      "metadata": {
        "id": "r0TZvvzF_7Yq"
      },
      "execution_count": null,
      "outputs": []
    },
    {
      "cell_type": "code",
      "source": [
        "# list iteration\n",
        "list1=[2,3,5,6,2]\n",
        "for number in list1:\n",
        "    print(number)"
      ],
      "metadata": {
        "colab": {
          "base_uri": "https://localhost:8080/"
        },
        "id": "36obkPJd_3bB",
        "outputId": "05b7d6fd-af1c-403d-b83d-d79d616a1a91"
      },
      "execution_count": null,
      "outputs": [
        {
          "output_type": "stream",
          "name": "stdout",
          "text": [
            "2\n",
            "3\n",
            "5\n",
            "6\n",
            "2\n"
          ]
        }
      ]
    },
    {
      "cell_type": "code",
      "source": [
        "# dictionary iteration\n",
        "dictionary1={\"a\":12,\"s\":23,\"d\":25}\n",
        "for key in dictionary1.keys():\n",
        "   print(f\"{key}\")"
      ],
      "metadata": {
        "colab": {
          "base_uri": "https://localhost:8080/"
        },
        "id": "xkMf5E5VBLuZ",
        "outputId": "09564c20-faf9-4a18-8714-42c35bba962b"
      },
      "execution_count": null,
      "outputs": [
        {
          "output_type": "stream",
          "name": "stdout",
          "text": [
            "a\n",
            "s\n",
            "d\n"
          ]
        }
      ]
    },
    {
      "cell_type": "code",
      "source": [
        "# dictionary iteration\n",
        "dictionary1={\"a\":12,\"s\":23,\"d\":25}\n",
        "for key in dictionary1.keys():\n",
        "   print(f\"{key}:{dictionary1[key]}\")"
      ],
      "metadata": {
        "colab": {
          "base_uri": "https://localhost:8080/"
        },
        "id": "G_pwBzyXBSGg",
        "outputId": "6803fb00-0370-4919-bba7-efc5e3c38edb"
      },
      "execution_count": null,
      "outputs": [
        {
          "output_type": "stream",
          "name": "stdout",
          "text": [
            "a:12\n",
            "s:23\n",
            "d:25\n"
          ]
        }
      ]
    },
    {
      "cell_type": "code",
      "source": [
        "# dictionary iteration\n",
        "dictionary1={\"a\":12,\"s\":23,\"d\":25}\n",
        "for value in dictionary1.values():\n",
        "   print(f\"{value}\")"
      ],
      "metadata": {
        "colab": {
          "base_uri": "https://localhost:8080/"
        },
        "id": "Yf0m0S4FBXPm",
        "outputId": "4051e61b-68aa-42d9-ba1d-0a6099dec308"
      },
      "execution_count": null,
      "outputs": [
        {
          "output_type": "stream",
          "name": "stdout",
          "text": [
            "12\n",
            "23\n",
            "25\n"
          ]
        }
      ]
    },
    {
      "cell_type": "code",
      "source": [
        "# dictionary iteration\n",
        "dictionary1={\"a\":12,\"s\":23,\"d\":25}\n",
        "for key in dictionary1:\n",
        "   print(f\"{key}:{dictionary1[key]}\")"
      ],
      "metadata": {
        "colab": {
          "base_uri": "https://localhost:8080/"
        },
        "id": "-nqQ3C22AeeY",
        "outputId": "5b7dc047-d96f-4cbe-dc9f-b1cdf02b96c2"
      },
      "execution_count": null,
      "outputs": [
        {
          "output_type": "stream",
          "name": "stdout",
          "text": [
            "a:12\n",
            "s:23\n",
            "d:25\n"
          ]
        }
      ]
    },
    {
      "cell_type": "code",
      "source": [
        "# dictionary iteration\n",
        "dictionary1={\"a\":12,\"s\":23,\"d\":25}\n",
        "for key,value in dictionary1.items():\n",
        "   print(f\"{key}:{value}\")"
      ],
      "metadata": {
        "colab": {
          "base_uri": "https://localhost:8080/"
        },
        "id": "LApgXBHtA65x",
        "outputId": "1267072b-919c-4bfa-d51d-428e206df77d"
      },
      "execution_count": null,
      "outputs": [
        {
          "output_type": "stream",
          "name": "stdout",
          "text": [
            "a:12\n",
            "s:23\n",
            "d:25\n"
          ]
        }
      ]
    },
    {
      "cell_type": "code",
      "source": [
        "# string iteration\n",
        "string1=\"python is good\"\n",
        "for letter in string1:\n",
        "    print(letter)\n"
      ],
      "metadata": {
        "colab": {
          "base_uri": "https://localhost:8080/"
        },
        "id": "5YKMLCtLBqaI",
        "outputId": "b022130a-3a92-4a51-81dc-76da1ac6cb27"
      },
      "execution_count": null,
      "outputs": [
        {
          "output_type": "stream",
          "name": "stdout",
          "text": [
            "p\n",
            "y\n",
            "t\n",
            "h\n",
            "o\n",
            "n\n",
            " \n",
            "i\n",
            "s\n",
            " \n",
            "g\n",
            "o\n",
            "o\n",
            "d\n"
          ]
        }
      ]
    },
    {
      "cell_type": "markdown",
      "source": [
        "For Practice:\n",
        "\n",
        "1. Iterating through a List:\n",
        "Given a list of fruits, print each fruit on a new line.\n",
        "\n",
        "2. Iterating through a Tuple:\n",
        "\n",
        " Print the names and ages of each person from the given tuple.\n",
        "\n",
        "3. Iterating through a String:\n",
        "\n",
        " Count the number of vowels in the given string.\n",
        "\n",
        "4. Iterating through a Set:\n",
        "\n",
        " Print each unique element from the given set.\n",
        "\n",
        "5. Iterating through a Dictionary:\n",
        "Given a dictionary of student names and their corresponding scores, print each student's name and score."
      ],
      "metadata": {
        "id": "HxPFahT-MaWa"
      }
    },
    {
      "cell_type": "markdown",
      "source": [
        "### **Range Function in Python:**"
      ],
      "metadata": {
        "id": "ct-clGGJD7tJ"
      }
    },
    {
      "cell_type": "code",
      "source": [
        "for i in range(2,10):\n",
        "    print(i)"
      ],
      "metadata": {
        "colab": {
          "base_uri": "https://localhost:8080/"
        },
        "id": "KP28w--eCv9g",
        "outputId": "6698dbdc-a38b-475b-cb22-581f22142fae"
      },
      "execution_count": null,
      "outputs": [
        {
          "output_type": "stream",
          "name": "stdout",
          "text": [
            "2\n",
            "3\n",
            "4\n",
            "5\n",
            "6\n",
            "7\n",
            "8\n",
            "9\n"
          ]
        }
      ]
    },
    {
      "cell_type": "code",
      "source": [
        "for i in range(2,10,2):\n",
        "    print(i)"
      ],
      "metadata": {
        "colab": {
          "base_uri": "https://localhost:8080/"
        },
        "id": "XymebEoxC3s4",
        "outputId": "82b8a95e-4f1b-4c15-b0a2-d1be95d9ab9c"
      },
      "execution_count": null,
      "outputs": [
        {
          "output_type": "stream",
          "name": "stdout",
          "text": [
            "2\n",
            "4\n",
            "6\n",
            "8\n"
          ]
        }
      ]
    },
    {
      "cell_type": "code",
      "source": [
        "#to find sum of 10 numbers\n",
        "sum=0\n",
        "for i in range(0,11):\n",
        "    sum+=i\n",
        "print(sum)"
      ],
      "metadata": {
        "colab": {
          "base_uri": "https://localhost:8080/"
        },
        "id": "1uzvpemzEbOO",
        "outputId": "e5b3cf2f-6fbd-45df-c562-845006fb7b78"
      },
      "execution_count": null,
      "outputs": [
        {
          "output_type": "stream",
          "name": "stdout",
          "text": [
            "55\n"
          ]
        }
      ]
    },
    {
      "cell_type": "code",
      "source": [
        "#to find the sum of N number\n",
        "number=int(input(\"Enter the number that you wanted to find the sum : \"))\n",
        "sum=0\n",
        "for i in range(0,number+1):\n",
        "    sum+=i\n",
        "print(sum)"
      ],
      "metadata": {
        "colab": {
          "base_uri": "https://localhost:8080/"
        },
        "id": "JOrXKzOBE4yn",
        "outputId": "b1c5a071-709e-4fa1-d2ce-9e78d9a5f39e"
      },
      "execution_count": null,
      "outputs": [
        {
          "output_type": "stream",
          "name": "stdout",
          "text": [
            "Enter the number that you wanted to find the sum : 12354\n",
            "76316835\n"
          ]
        }
      ]
    },
    {
      "cell_type": "markdown",
      "source": [
        "for practice:\n",
        "\n",
        "1. Printing Numbers:\n",
        "\n",
        " Print the numbers from 1 to 10.\n",
        "\n",
        "2. Sum of Even Numbers:\n",
        "\n",
        " Calculate and print the sum of even numbers from 1 to 20.\n",
        "\n",
        "3. Multiplication Table:\n",
        "\n",
        " Print the multiplication table of 5.\n",
        "\n",
        "4. Countdown:\n",
        "\n",
        " Print a countdown from 10 to 1.\n",
        "\n",
        "5. Squares of Numbers:\n",
        "\n",
        " Calculate and print the squares of numbers from 1 to 5."
      ],
      "metadata": {
        "id": "JK8gbzbfN7xA"
      }
    },
    {
      "cell_type": "markdown",
      "source": [
        "## **Python Control Statements:**\n",
        "\n",
        "\n",
        "*   continue\n",
        "*   break\n",
        "*   pass\n",
        "\n",
        "\n",
        "\n",
        "\n"
      ],
      "metadata": {
        "id": "8deJ1bLpCG2o"
      }
    },
    {
      "cell_type": "code",
      "source": [
        "# continue statement\n",
        "for i in range(1,10):\n",
        "    if i==3:\n",
        "        continue\n",
        "    print(i)"
      ],
      "metadata": {
        "colab": {
          "base_uri": "https://localhost:8080/"
        },
        "id": "FKeuhX8uCi1E",
        "outputId": "30803ce7-02b2-4a52-e137-63fe8627aa1b"
      },
      "execution_count": null,
      "outputs": [
        {
          "output_type": "stream",
          "name": "stdout",
          "text": [
            "1\n",
            "2\n",
            "4\n",
            "5\n",
            "6\n",
            "7\n",
            "8\n",
            "9\n"
          ]
        }
      ]
    },
    {
      "cell_type": "code",
      "source": [
        "# break statement\n",
        "for i in range(1,10):\n",
        "    if i==3:\n",
        "        break\n",
        "    print(i)"
      ],
      "metadata": {
        "colab": {
          "base_uri": "https://localhost:8080/"
        },
        "id": "oabT-M2UDUT4",
        "outputId": "8901d7c0-5657-4475-bd74-4a0c26a7d269"
      },
      "execution_count": null,
      "outputs": [
        {
          "output_type": "stream",
          "name": "stdout",
          "text": [
            "1\n",
            "2\n"
          ]
        }
      ]
    },
    {
      "cell_type": "code",
      "source": [
        "# pass statement\n",
        "for i in range(1,10):\n",
        "    if i==3:\n",
        "        pass\n",
        "    print(i)"
      ],
      "metadata": {
        "colab": {
          "base_uri": "https://localhost:8080/"
        },
        "id": "WplVdFlSDYPA",
        "outputId": "b4af02fc-ee8e-4478-d116-0d05444a47e8"
      },
      "execution_count": null,
      "outputs": [
        {
          "output_type": "stream",
          "name": "stdout",
          "text": [
            "1\n",
            "2\n",
            "3\n",
            "4\n",
            "5\n",
            "6\n",
            "7\n",
            "8\n",
            "9\n"
          ]
        }
      ]
    },
    {
      "cell_type": "markdown",
      "source": [
        "for practice:\n",
        "\n",
        "1. Using break Statement:\n",
        "\n",
        " Find the first even number in a list and print it.\n",
        "\n",
        "2. Using continue Statement:\n",
        "\n",
        " Print all odd numbers from 1 to 10, but skip the number 7.\n",
        "\n",
        "4. Using break to Find Divisible Number:\n",
        "\n",
        " Find the smallest multiple of 7 that is greater than 50 and print it.\n",
        "\n",
        "5. Using continue to Filter Even Numbers:\n",
        "\n",
        " Print all even numbers from 1 to 20, but skip multiples of 6\n",
        "\n",
        "6. Using pass for Placeholder Logic:\n",
        "\n",
        " Print a Fibonacci sequence of length 10. For now, include a pass statement to indicate where the Fibonacci calculation logic should be added.\n",
        "\n",
        " note:\n",
        "\n",
        " The Fibonacci sequence is a series of numbers in which each number is the sum of the two that precede it. Starting at 0 and 1, the first 10 numbers of the sequence look like this: 0, 1, 1, 2, 3, 5, 8, 13, 21, 34, and so on forever.\n",
        "\n"
      ],
      "metadata": {
        "id": "PLnY3MHxPw4P"
      }
    },
    {
      "cell_type": "markdown",
      "source": [
        "### **For loop with if_else statement:**"
      ],
      "metadata": {
        "id": "V7UAdFKPK1kM"
      }
    },
    {
      "cell_type": "code",
      "source": [
        "# FOR LOOP WITH ELSE STATEMENT\n",
        "for i in range(0,10):\n",
        "    print(i,end=\" \")\n",
        "else:\n",
        "    print(\" \")\n",
        "    print(\"statement in the else condition\")"
      ],
      "metadata": {
        "colab": {
          "base_uri": "https://localhost:8080/"
        },
        "id": "i0jgxJVkKzXN",
        "outputId": "c41568c2-76c6-4064-ee36-fd954ea42813"
      },
      "execution_count": null,
      "outputs": [
        {
          "output_type": "stream",
          "name": "stdout",
          "text": [
            "0 1 2 3 4 5 6 7 8 9  \n",
            "statement in the else condition\n"
          ]
        }
      ]
    },
    {
      "cell_type": "code",
      "source": [
        "# FOR LOOP WITH ELSE STATEMENT\n",
        "for i in range(0,10):\n",
        "    print(i,end=\" \")\n",
        "    break\n",
        "else:\n",
        "    print(\"statement in the else condition\")"
      ],
      "metadata": {
        "colab": {
          "base_uri": "https://localhost:8080/"
        },
        "id": "D45b8b03Lmaz",
        "outputId": "334e00c6-1cfd-4a0e-a7fd-4cf0cf65ea25"
      },
      "execution_count": null,
      "outputs": [
        {
          "output_type": "stream",
          "name": "stdout",
          "text": [
            "0 "
          ]
        }
      ]
    },
    {
      "cell_type": "code",
      "source": [
        "# FOR LOOP WITH ELSE STATEMENT\n",
        "for i in range(0,10):\n",
        "    break\n",
        "    print(i,end=\" \")\n",
        "else:\n",
        "    print(\"statement in the else condition\")"
      ],
      "metadata": {
        "id": "j-xNFmbkLzks"
      },
      "execution_count": null,
      "outputs": []
    },
    {
      "cell_type": "code",
      "source": [
        "# FOR LOOP WITH ELSE STATEMENT\n",
        "for i in range(0,10):\n",
        "    if i==5:\n",
        "        break\n",
        "    print(i,end=\" \")\n",
        "else:\n",
        "    print(\"statement in the else condition\")\n"
      ],
      "metadata": {
        "colab": {
          "base_uri": "https://localhost:8080/"
        },
        "id": "IZAhgwlAL5q8",
        "outputId": "c020a15e-cc23-4ff0-970c-a8100b1898c6"
      },
      "execution_count": null,
      "outputs": [
        {
          "output_type": "stream",
          "name": "stdout",
          "text": [
            "0 1 2 3 4 "
          ]
        }
      ]
    },
    {
      "cell_type": "code",
      "source": [
        "for i in range(1,4):\n",
        "    if i%5==0:\n",
        "       print(i,end=\" \")\n",
        "       break\n",
        "else:\n",
        "     print(\"\\n\",\" i will execute without break\")"
      ],
      "metadata": {
        "colab": {
          "base_uri": "https://localhost:8080/"
        },
        "id": "E0E-sjOpMTN0",
        "outputId": "7ec8c1e6-b193-4ce5-c7de-86b3ef6ecffb"
      },
      "execution_count": null,
      "outputs": [
        {
          "output_type": "stream",
          "name": "stdout",
          "text": [
            "\n",
            "  i will execute without break\n"
          ]
        }
      ]
    },
    {
      "cell_type": "markdown",
      "source": [
        "## **for practice:**\n",
        "\n",
        "\n",
        "1. Checking for Prime Numbers:\n",
        "\n",
        " Determine and print whether each number from 1 to 10 is prime or not.\n",
        "\n",
        "2. Classifying Numbers:\n",
        "\n",
        " Classify each number from 1 to 10 as even or odd.\n",
        "\n",
        "3. Grading Students:\n",
        "\n",
        " Given a list of student scores, determine and print their corresponding grades.\n",
        "\n",
        "4. Counting Positive, Negative, and Zero Numbers:\n",
        "\n",
        " Given a list of numbers, count and print the number of positive, negative, and zero values.\n",
        "\n",
        "5. Categorizing Even and Odd Length Words:\n",
        "\n",
        " Given a list of words, categorize each word as having an even or odd number of characters.\n",
        "\n",
        "6. Identifying Palindromes:\n",
        "\n",
        " Given a list of words, determine and print whether each word is a palindrome or not.\n",
        "\n",
        "7. Checking Leap Years:\n",
        "\n",
        " Determine and print whether each year from 2000 to 2020 is a leap year or not.\n",
        "\n",
        "8. Identifying Uppercase and Lowercase Letters:\n",
        "\n",
        " Given a string, classify each character as uppercase, lowercase, or neither.\n",
        "\n",
        "9. Categorizing Numbers:\n",
        "\n",
        " Given a list of numbers, categorize each number as positive, negative, or zero.\n",
        "\n",
        "10. Detecting Palindromic Sentences:\n",
        "\n",
        " Given a list of sentences, determine and print whether each sentence is a palindrome or not (ignoring spaces and capitalization)."
      ],
      "metadata": {
        "id": "1JYogpIwRmaI"
      }
    },
    {
      "cell_type": "markdown",
      "source": [
        "### **Short hand for loop:**"
      ],
      "metadata": {
        "id": "Z49ylawfbbg5"
      }
    },
    {
      "cell_type": "code",
      "source": [
        "squares = [x ** 2 for x in range(1, 6)]\n",
        "print(squares)"
      ],
      "metadata": {
        "colab": {
          "base_uri": "https://localhost:8080/"
        },
        "id": "_HFAzSMQbkaA",
        "outputId": "253952fc-89b7-4a0d-b4f4-34c75c8560d7"
      },
      "execution_count": null,
      "outputs": [
        {
          "output_type": "stream",
          "name": "stdout",
          "text": [
            "[1, 4, 9, 16, 25]\n"
          ]
        }
      ]
    },
    {
      "cell_type": "code",
      "source": [
        "#short hand for loop with if_else statement\n",
        "numbers = [1, 2, 3, 4, 5, 6, 7, 8, 9, 10]\n",
        "even_squared = [x ** 2 if x % 2 == 0 else x for x in numbers ]\n",
        "print(even_squared)"
      ],
      "metadata": {
        "colab": {
          "base_uri": "https://localhost:8080/"
        },
        "id": "MarRea1xbv3J",
        "outputId": "b22a1632-e949-4c48-be43-3def3ca942c2"
      },
      "execution_count": null,
      "outputs": [
        {
          "output_type": "stream",
          "name": "stdout",
          "text": [
            "[1, 4, 3, 16, 5, 36, 7, 64, 9, 100]\n"
          ]
        }
      ]
    },
    {
      "cell_type": "markdown",
      "source": [
        "## **For Practice:**\n",
        "\n",
        "1. Squaring Numbers:\n",
        "\n",
        " Create a list containing the squares of numbers from 1 to 5 using a list comprehension.\n",
        "\n",
        "2. Extracting Even Numbers:\n",
        "\n",
        " Create a list containing even numbers from 1 to 10 using a list comprehension.\n",
        "\n",
        "3. Generating a Pattern:\n",
        "\n",
        " Create a list of strings representing a pattern of '*' characters using a list comprehension.\n",
        "\n",
        "4. Converting to Uppercase:\n",
        "\n",
        " Create a list of uppercase versions of words from a given list of words using a list comprehension.\n",
        "\n",
        "5. Filtering Positive Numbers:\n",
        "\n",
        " Create a list containing only positive numbers from a given list of integers using a list comprehension."
      ],
      "metadata": {
        "id": "KYs0P6XcTDEe"
      }
    },
    {
      "cell_type": "markdown",
      "source": [
        "## **Nested for loop in python**"
      ],
      "metadata": {
        "id": "PSim5xd3QEz2"
      }
    },
    {
      "cell_type": "code",
      "source": [
        "# nested for loop\n",
        "Syntax:\n",
        "for iterator_var in sequence:\n",
        "    for iterator_var in sequence:\n",
        "          statements\n",
        "    statements\n"
      ],
      "metadata": {
        "id": "SPnM1BbsQLUU"
      },
      "execution_count": null,
      "outputs": []
    },
    {
      "cell_type": "code",
      "source": [
        "for i in range(1,5):\n",
        "    for j in range(i):\n",
        "        print(i,end=\" \")\n",
        "    print(\" \")"
      ],
      "metadata": {
        "colab": {
          "base_uri": "https://localhost:8080/"
        },
        "id": "7-SKRrDsQ-PM",
        "outputId": "14a13b2d-d972-4248-d3a0-3e0a546df579"
      },
      "execution_count": null,
      "outputs": [
        {
          "output_type": "stream",
          "name": "stdout",
          "text": [
            "1  \n",
            "2 2  \n",
            "3 3 3  \n",
            "4 4 4 4  \n"
          ]
        }
      ]
    },
    {
      "cell_type": "code",
      "source": [
        "for i in range(1,6):\n",
        "    for j in range(i):\n",
        "        print(\"*\",end=\" \")\n",
        "    print(\" \")"
      ],
      "metadata": {
        "colab": {
          "base_uri": "https://localhost:8080/"
        },
        "id": "QJn5LudVRt-z",
        "outputId": "d7a8cd73-e33d-4b63-dbe9-042a71222ea7"
      },
      "execution_count": null,
      "outputs": [
        {
          "output_type": "stream",
          "name": "stdout",
          "text": [
            "*  \n",
            "* *  \n",
            "* * *  \n",
            "* * * *  \n",
            "* * * * *  \n"
          ]
        }
      ]
    },
    {
      "cell_type": "code",
      "source": [
        "for i in range(5, 0, -1):  # Start from 5 and decrement by 1\n",
        "    for j in range(i):\n",
        "        print(\"*\", end=\" \")\n",
        "    print(\" \")"
      ],
      "metadata": {
        "colab": {
          "base_uri": "https://localhost:8080/"
        },
        "id": "ZaPB7RHlR0Fs",
        "outputId": "85610db4-0345-4bb8-d7f9-850bd2b88ec9"
      },
      "execution_count": null,
      "outputs": [
        {
          "output_type": "stream",
          "name": "stdout",
          "text": [
            "* * * * *  \n",
            "* * * *  \n",
            "* * *  \n",
            "* *  \n",
            "*  \n"
          ]
        }
      ]
    },
    {
      "cell_type": "code",
      "source": [
        "rows = 5\n",
        "k = 2 * rows - 2\n",
        "for i in range(0, rows):\n",
        "    # process each column\n",
        "    for j in range(0, k):\n",
        "        # print space in pyramid\n",
        "        print(end=\" \")\n",
        "    k = k - 2\n",
        "    for j in range(0, i + 1):\n",
        "        # display star\n",
        "        print(\"* \", end=\"\")\n",
        "    print(\"\")"
      ],
      "metadata": {
        "colab": {
          "base_uri": "https://localhost:8080/"
        },
        "id": "NyAXtSyVU1ST",
        "outputId": "035ea706-8ae8-466a-cafb-70f47d3edc74"
      },
      "execution_count": null,
      "outputs": [
        {
          "output_type": "stream",
          "name": "stdout",
          "text": [
            "        * \n",
            "      * * \n",
            "    * * * \n",
            "  * * * * \n",
            "* * * * * \n"
          ]
        }
      ]
    },
    {
      "cell_type": "code",
      "source": [
        "# lower triangle\n",
        "for i in range(5):\n",
        "    # print spaces\n",
        "    for j in range(i + 1):\n",
        "        print(' ', end=' ')\n",
        "    # print stars\n",
        "    for k in range(5 - i ):\n",
        "        print('*', end=' ')\n",
        "    print()"
      ],
      "metadata": {
        "colab": {
          "base_uri": "https://localhost:8080/"
        },
        "id": "Hyo5Qrr9ZNa5",
        "outputId": "545b40ee-460a-4074-c607-ed088d97846f"
      },
      "execution_count": null,
      "outputs": [
        {
          "output_type": "stream",
          "name": "stdout",
          "text": [
            "  * * * * * \n",
            "    * * * * \n",
            "      * * * \n",
            "        * * \n",
            "          * \n"
          ]
        }
      ]
    },
    {
      "cell_type": "code",
      "source": [
        "for i in range(5):\n",
        "    for j in range(i+1):\n",
        "        print(\"1\",end=\" \")\n",
        "    for k in range(5-i):\n",
        "        print(\"*\",end=\" \")\n",
        "    print()"
      ],
      "metadata": {
        "colab": {
          "base_uri": "https://localhost:8080/"
        },
        "id": "qPCzK3ByoySp",
        "outputId": "dbc662c6-1385-4cfb-dcbf-e8fa8d9ea2be"
      },
      "execution_count": null,
      "outputs": [
        {
          "output_type": "stream",
          "name": "stdout",
          "text": [
            "1 * * * * * \n",
            "1 1 * * * * \n",
            "1 1 1 * * * \n",
            "1 1 1 1 * * \n",
            "1 1 1 1 1 * \n"
          ]
        }
      ]
    },
    {
      "cell_type": "code",
      "source": [
        "for i in range(1, 6):  # Start from 1 and go up to 5\n",
        "    for j in range(5, i, -1):  # Print spaces\n",
        "        print(\" \", end=\"\")\n",
        "    for k in range(1,i+1):  # Print asterisks\n",
        "        print(i, end=\" \")\n",
        "    print( )  # Move to the next line\n"
      ],
      "metadata": {
        "colab": {
          "base_uri": "https://localhost:8080/"
        },
        "id": "S34Ty4siS9Fc",
        "outputId": "f92c6275-7b33-43cd-f8df-254953bd8da7"
      },
      "execution_count": null,
      "outputs": [
        {
          "output_type": "stream",
          "name": "stdout",
          "text": [
            "    1 \n",
            "   2 2 \n",
            "  3 3 3 \n",
            " 4 4 4 4 \n",
            "5 5 5 5 5 \n"
          ]
        }
      ]
    },
    {
      "cell_type": "code",
      "source": [
        "for i in range(5, 0, -1):  # Start from 5 and decrement by 1\n",
        "    for j in range(5 - i):  # Print spaces\n",
        "        print(\" \", end=\"\")\n",
        "    for k in range(i):  # Print asterisks\n",
        "        print(\"*\", end=\" \")\n",
        "    print(\" \")  # Move to the next line\n"
      ],
      "metadata": {
        "colab": {
          "base_uri": "https://localhost:8080/"
        },
        "id": "kYMLjdCpTZh7",
        "outputId": "bc15b4c5-ba01-4a02-fd42-3dccbc12a841"
      },
      "execution_count": null,
      "outputs": [
        {
          "output_type": "stream",
          "name": "stdout",
          "text": [
            "* * * * *  \n",
            " * * * *  \n",
            "  * * *  \n",
            "   * *  \n",
            "    *  \n"
          ]
        }
      ]
    },
    {
      "cell_type": "markdown",
      "source": [
        "for practice:\n",
        "\n",
        "1. Printing a Multiplication Table:\n",
        "\n",
        " Print the multiplication table from 1 to 5 using nested for loops.\n",
        "\n",
        "2. Creating a Triangle:\n",
        "\n",
        " Create a right-angled triangle pattern using nested for loops.\n",
        "\n",
        "3. Generating a 2D Grid:\n",
        "\n",
        " Generate a 2D grid of ones using nested for loops.\n",
        "\n",
        "3. Generating a 2D Grid:\n",
        "\n",
        " Generate a 2D grid of ones using nested for loops.\n",
        "\n",
        "4. Multiplying Matrices:\n",
        "\n",
        " Multiply two matrices using nested for loops.\n",
        "\n",
        "5. Creating a Chessboard Pattern:\n",
        "\n",
        " Create a chessboard pattern using nested for loops."
      ],
      "metadata": {
        "id": "4YF-SLBLUKqu"
      }
    },
    {
      "cell_type": "markdown",
      "source": [
        "# **While Loop in Python**\n",
        "\n",
        "In python, a while loop is used to execute a block of statements repeatedly until a given condition is\n",
        "satisfied."
      ],
      "metadata": {
        "id": "hn_x8xF7NOWk"
      }
    },
    {
      "cell_type": "code",
      "source": [
        "Syntax :\n",
        "loop intialization statement\n",
        "while expression:\n",
        "    statement\n",
        "    loop increment statement\n"
      ],
      "metadata": {
        "id": "ilojC4UcNUet"
      },
      "execution_count": null,
      "outputs": []
    },
    {
      "cell_type": "code",
      "source": [
        "#for i in range(2,10,2):\n",
        "#    print(i)\n",
        "n=2\n",
        "while n<10:\n",
        "    print(n)\n",
        "    n+=2"
      ],
      "metadata": {
        "colab": {
          "base_uri": "https://localhost:8080/"
        },
        "id": "fEu1BXh8c-tY",
        "outputId": "85777690-94c2-4de7-98ae-00d12e068414"
      },
      "execution_count": null,
      "outputs": [
        {
          "output_type": "stream",
          "name": "stdout",
          "text": [
            "2\n",
            "4\n",
            "6\n",
            "8\n"
          ]
        }
      ]
    },
    {
      "cell_type": "code",
      "source": [
        "#iterating a list using while loop\n",
        "my_list = [1, 2, 3, 4, 5]\n",
        "index = 0\n",
        "\n",
        "while index < len(my_list):\n",
        "    print(my_list[index])\n",
        "    index += 1\n"
      ],
      "metadata": {
        "colab": {
          "base_uri": "https://localhost:8080/"
        },
        "id": "E2rc32upeqOP",
        "outputId": "a2a34151-8e92-46fc-8ffd-751c184c44bf"
      },
      "execution_count": null,
      "outputs": [
        {
          "output_type": "stream",
          "name": "stdout",
          "text": [
            "1\n",
            "2\n",
            "3\n",
            "4\n",
            "5\n"
          ]
        }
      ]
    },
    {
      "cell_type": "code",
      "source": [
        "#iterating  a dictionary using while loop\n",
        "my_dict = {'a': 1, 'b': 2, 'c': 3}\n",
        "keys = list(my_dict.keys())  # Get the keys as a list\n",
        "index = 0\n",
        "\n",
        "while index < len(keys):\n",
        "    key = keys[index]\n",
        "    value = my_dict[key]\n",
        "    print(key,\":\", value)\n",
        "    index += 1\n"
      ],
      "metadata": {
        "colab": {
          "base_uri": "https://localhost:8080/"
        },
        "id": "4hLN1wgffOPX",
        "outputId": "2a0e1dea-e015-4d19-df3c-9ef1d55836be"
      },
      "execution_count": null,
      "outputs": [
        {
          "output_type": "stream",
          "name": "stdout",
          "text": [
            "a : 1\n",
            "b : 2\n",
            "c : 3\n"
          ]
        }
      ]
    },
    {
      "cell_type": "markdown",
      "source": [
        "## **for practice:**\n",
        "\n",
        "1. Iterating Through a List:\n",
        "\n",
        " Print each element of a given list using a while loop.\n",
        "\n",
        "2. Iterating Through a Tuple:\n",
        "\n",
        " Print each element of a given tuple using a while loop.\n",
        "\n",
        "3. Iterating Through a String:\n",
        "\n",
        " Print each character of a given string in reverse order using a while loop.\n",
        "\n",
        "4. Iterating Through a Set:\n",
        "\n",
        " Print each element of a given set using a while loop.\n",
        "\n",
        "5. Iterating Through a Dictionary:\n",
        "\n",
        " Print each key and value of a given dictionary using a while loop.\n",
        "\n"
      ],
      "metadata": {
        "id": "4hrBTY7EVlWt"
      }
    },
    {
      "cell_type": "markdown",
      "source": [
        "## **while loop with else statement:**"
      ],
      "metadata": {
        "id": "glEFZ_zCedcn"
      }
    },
    {
      "cell_type": "code",
      "source": [
        "while condition:\n",
        "    # Loop body\n",
        "else:\n",
        "    # Code to execute when the loop condition becomes False\n"
      ],
      "metadata": {
        "id": "JwFhjAawepEP"
      },
      "execution_count": null,
      "outputs": []
    },
    {
      "cell_type": "code",
      "source": [
        "num = 1\n",
        "while num <= 5:\n",
        "    print(num)\n",
        "    num += 1\n",
        "else:\n",
        "    print(\"Loop finished\")\n"
      ],
      "metadata": {
        "colab": {
          "base_uri": "https://localhost:8080/"
        },
        "id": "07bXjRdVf3dQ",
        "outputId": "b8411a1e-9729-4ad1-c7ff-b74d0e38f13e"
      },
      "execution_count": null,
      "outputs": [
        {
          "output_type": "stream",
          "name": "stdout",
          "text": [
            "1\n",
            "2\n",
            "3\n",
            "4\n",
            "5\n",
            "Loop finished\n"
          ]
        }
      ]
    },
    {
      "cell_type": "code",
      "source": [
        "#concept of infinite loop\n",
        "number= int(input(\"Enter a number : \"))\n",
        "while number<10:\n",
        "    print(number)\n",
        "    break\n",
        "else:\n",
        "    print(\"{number} is greater than or equal to 10\")"
      ],
      "metadata": {
        "colab": {
          "base_uri": "https://localhost:8080/"
        },
        "id": "xHiCKdWBgo_r",
        "outputId": "c45e18a2-9cec-49d5-863c-fcf569c544ef"
      },
      "execution_count": null,
      "outputs": [
        {
          "output_type": "stream",
          "name": "stdout",
          "text": [
            "Enter a number : 1\n",
            "1\n"
          ]
        }
      ]
    },
    {
      "cell_type": "code",
      "source": [
        "#while loop with if else statement\n",
        "while condition:\n",
        "    # Loop body\n",
        "    if condition_1:\n",
        "        # Code to execute if condition_1 is true\n",
        "    else:\n",
        "        # Code to execute if condition_1 is false"
      ],
      "metadata": {
        "id": "ACGiU47Fjd7w"
      },
      "execution_count": null,
      "outputs": []
    },
    {
      "cell_type": "code",
      "source": [
        "num = 1\n",
        "while num <= 5:\n",
        "    if num % 2 == 0:\n",
        "        print(num, \"is even\")\n",
        "    else:\n",
        "        print(num, \"is odd\")\n",
        "    num += 1"
      ],
      "metadata": {
        "colab": {
          "base_uri": "https://localhost:8080/"
        },
        "id": "HlDM8apvjjkX",
        "outputId": "f4cc66fc-a7ae-43ea-9346-c669068be8ef"
      },
      "execution_count": null,
      "outputs": [
        {
          "output_type": "stream",
          "name": "stdout",
          "text": [
            "1 is odd\n",
            "2 is even\n",
            "3 is odd\n",
            "4 is even\n",
            "5 is odd\n"
          ]
        }
      ]
    },
    {
      "cell_type": "code",
      "source": [
        "num = int(input(\"Enter a number : \"))\n",
        "while num !=0:\n",
        "    if num % 2 == 0:\n",
        "        print(num, \"is even\")\n",
        "    else:\n",
        "        print(num, \"is odd\")\n",
        "    num =int(input(\"Enter a number : \"))"
      ],
      "metadata": {
        "colab": {
          "base_uri": "https://localhost:8080/"
        },
        "id": "x7RIMwNxkOYM",
        "outputId": "7e2044b0-f009-4da4-912a-322b644639d5"
      },
      "execution_count": null,
      "outputs": [
        {
          "name": "stdout",
          "output_type": "stream",
          "text": [
            "Enter a number : 22\n",
            "22 is even\n",
            "Enter a number : 24\n",
            "24 is even\n",
            "Enter a number : 0\n"
          ]
        }
      ]
    },
    {
      "cell_type": "markdown",
      "source": [
        "## **for practice:**\n",
        "\n",
        "1. Guessing Game:\n",
        "\n",
        " Create a number guessing game where the user has to guess a secret number between 1 and 10. Provide feedback based on the user's guess.\n",
        "\n",
        "2. Countdown Timer:\n",
        "\n",
        " Create a countdown timer that starts from a given number and counts down to zero.\n",
        "\n",
        "3. Finding Prime Numbers:\n",
        "\n",
        " Determine and print the prime numbers between 1 and 20 using a while loop.\n",
        "\n",
        "4. Sum of Digits:\n",
        "\n",
        " Calculate and print the sum of digits of a given positive integer.\n",
        "\n",
        "5. Password Verification:\n",
        "\n",
        " Implement a simple password verification system that allows the user three attempts to enter the correct password."
      ],
      "metadata": {
        "id": "UqmVsHBjYwdM"
      }
    },
    {
      "cell_type": "markdown",
      "source": [
        "### **short hand while loop:**\n"
      ],
      "metadata": {
        "id": "1bXSvVg_l_L_"
      }
    },
    {
      "cell_type": "code",
      "source": [
        "count = 0\n",
        "while count < 5: count += 1; print(count)"
      ],
      "metadata": {
        "colab": {
          "base_uri": "https://localhost:8080/"
        },
        "id": "HB5AqBQPlbJA",
        "outputId": "346e734b-724d-4a81-dbf8-f80eae9728f2"
      },
      "execution_count": null,
      "outputs": [
        {
          "output_type": "stream",
          "name": "stdout",
          "text": [
            "1\n",
            "2\n",
            "3\n",
            "4\n",
            "5\n"
          ]
        }
      ]
    },
    {
      "cell_type": "markdown",
      "source": [
        "## **For Practice:**\n",
        "\n",
        "1. Counting Down Even Numbers:\n",
        "\n",
        " Print even numbers from 10 to 2 in descending order using a shorthand while loop.\n",
        "\n",
        "2. Printing Powers of 2:\n",
        "\n",
        " Print the powers of 2 from 2^0 to 2^5 using a shorthand while loop.\n",
        "\n",
        "3. Summing Positive Integers:\n",
        "\n",
        " Calculate and print the sum of positive integers from 1 to 10 using a shorthand while loop.\n",
        "\n",
        "4. Generating a List of Squares:\n",
        "\n",
        " Generate a list containing the squares of numbers from 1 to 5 using a shorthand while loop.\n",
        "\n",
        "5. Countdown with Message:\n",
        "\n",
        " Create a countdown timer that prints a message for each second, starting from 5."
      ],
      "metadata": {
        "id": "jmeYZQ7kaJt5"
      }
    },
    {
      "cell_type": "markdown",
      "source": [
        "## **Nested while loop:**\n"
      ],
      "metadata": {
        "id": "WRpMWwatmR-n"
      }
    },
    {
      "cell_type": "code",
      "source": [
        "# nested while loop\n",
        "while expression:\n",
        "     while expression:\n",
        "          statement\n",
        "     statement\n"
      ],
      "metadata": {
        "id": "CMBK46oKmXWP"
      },
      "execution_count": null,
      "outputs": []
    },
    {
      "cell_type": "code",
      "source": [
        "row = 1\n",
        "while row <= 5:\n",
        "    col = 1\n",
        "    while col <= row:\n",
        "        print(\"*\", end=\" \")\n",
        "        col += 1\n",
        "    print()\n",
        "    row += 1\n"
      ],
      "metadata": {
        "colab": {
          "base_uri": "https://localhost:8080/"
        },
        "id": "rBZynh8gm1fX",
        "outputId": "1a86b9be-2aba-4f46-e000-0e9478a5b8ce"
      },
      "execution_count": null,
      "outputs": [
        {
          "output_type": "stream",
          "name": "stdout",
          "text": [
            "* \n",
            "* * \n",
            "* * * \n",
            "* * * * \n",
            "* * * * * \n"
          ]
        }
      ]
    },
    {
      "cell_type": "code",
      "source": [
        "row = 1\n",
        "while row <= 5:\n",
        "    col = 1\n",
        "    while col <= 10:\n",
        "        print(row * col, end=\"\\t\")\n",
        "        col += 1\n",
        "    print()  # Move to the next row\n",
        "    row += 1\n"
      ],
      "metadata": {
        "colab": {
          "base_uri": "https://localhost:8080/"
        },
        "id": "0ljWxvsFm5D_",
        "outputId": "7738052d-6564-4b3f-d47d-0517b94335a6"
      },
      "execution_count": null,
      "outputs": [
        {
          "output_type": "stream",
          "name": "stdout",
          "text": [
            "1\t2\t3\t4\t5\t6\t7\t8\t9\t10\t\n",
            "2\t4\t6\t8\t10\t12\t14\t16\t18\t20\t\n",
            "3\t6\t9\t12\t15\t18\t21\t24\t27\t30\t\n",
            "4\t8\t12\t16\t20\t24\t28\t32\t36\t40\t\n",
            "5\t10\t15\t20\t25\t30\t35\t40\t45\t50\t\n"
          ]
        }
      ]
    },
    {
      "cell_type": "markdown",
      "source": [
        "## **for practice:**\n",
        "\n",
        "1. Printing a Multiplication Table:\n",
        "\n",
        " Print the multiplication table from 1 to 5 using nested while loops.\n",
        "\n",
        "2. Creating Patterns:\n",
        "\n",
        " Create a pattern of numbers using nested while loops.\n",
        "\n",
        "\n",
        "\n",
        "3. Fibonacci Sequence:\n",
        "\n",
        " Generate the first 10 numbers in the Fibonacci sequence using nested while loops.\n",
        "\n",
        "4. Checking Prime Numbers:\n",
        "\n",
        " Determine and print prime numbers from 1 to 20 using nested while loops.\n",
        "\n",
        "5. Nested Countdown:\n",
        "\n",
        " Create a countdown timer that counts down from 5 to 1 in each iteration, using nested while loops."
      ],
      "metadata": {
        "id": "frcHcDN3cVr6"
      }
    },
    {
      "cell_type": "markdown",
      "source": [
        "## **control statement in while loop:**"
      ],
      "metadata": {
        "id": "RDVz5qj1oVi2"
      }
    },
    {
      "cell_type": "code",
      "source": [
        "# continue statement\n",
        "#for i in range(1,10):\n",
        "#    if i==3:\n",
        "#        continue\n",
        "#    print(i)\n",
        "\n",
        "i = 1\n",
        "while i <= 9:\n",
        "    if i == 3:\n",
        "        i += 1\n",
        "        continue\n",
        "    print(i)\n",
        "    i += 1"
      ],
      "metadata": {
        "colab": {
          "base_uri": "https://localhost:8080/"
        },
        "id": "EYYEFqnAqO5g",
        "outputId": "bbab2762-4d4b-4c97-dfb3-ca6e0514e30d"
      },
      "execution_count": null,
      "outputs": [
        {
          "output_type": "stream",
          "name": "stdout",
          "text": [
            "1\n",
            "2\n",
            "4\n",
            "5\n",
            "6\n",
            "7\n",
            "8\n",
            "9\n"
          ]
        }
      ]
    },
    {
      "cell_type": "code",
      "source": [
        "# break statement\n",
        "#for i in range(1,10):\n",
        "#    if i==3:\n",
        "#        break\n",
        "#    print(i)\n",
        "\n",
        "i=1\n",
        "while i<10:\n",
        "    if i==3:\n",
        "        i+=1\n",
        "        break\n",
        "    print(i)\n",
        "    i+=1"
      ],
      "metadata": {
        "colab": {
          "base_uri": "https://localhost:8080/"
        },
        "id": "UENcj1-PqrA1",
        "outputId": "02c41c91-da6f-4880-e4bc-b6c46ce7f63a"
      },
      "execution_count": null,
      "outputs": [
        {
          "output_type": "stream",
          "name": "stdout",
          "text": [
            "1\n",
            "2\n"
          ]
        }
      ]
    },
    {
      "cell_type": "code",
      "source": [
        "# pass statement\n",
        "#for i in range(1,10):\n",
        "#    if i==3:\n",
        "#        pass\n",
        "#    print(i)\n",
        "\n",
        "i=1\n",
        "while i<10:\n",
        "    if i==3:\n",
        "        i+=1\n",
        "        pass\n",
        "    print(i)\n",
        "    i+=1"
      ],
      "metadata": {
        "colab": {
          "base_uri": "https://localhost:8080/"
        },
        "id": "tq-GrCm7q6fe",
        "outputId": "43d30a62-2a15-4f7e-8f29-d6f8a5307d25"
      },
      "execution_count": null,
      "outputs": [
        {
          "output_type": "stream",
          "name": "stdout",
          "text": [
            "1\n",
            "2\n",
            "4\n",
            "5\n",
            "6\n",
            "7\n",
            "8\n",
            "9\n"
          ]
        }
      ]
    },
    {
      "cell_type": "markdown",
      "source": [
        "## **For Practice:**\n",
        "\n",
        "1. Using break Statement:\n",
        "\n",
        " Find the first even number in a list and print it using a while loop.\n",
        "\n",
        "2. Using continue Statement:\n",
        "\n",
        " Print all odd numbers from 1 to 10, but skip the number 7 using a while loop.\n",
        "\n",
        "3. Using pass Statement:\n",
        "\n",
        " Print the prime numbers from 1 to 10. For now, include a pass statement to mark where the prime number checking logic should be added using a while loop.\n",
        "\n",
        "4. Using break to Find Divisible Number:\n",
        "\n",
        " Find the smallest multiple of 5 that is greater than 20 and print it using a while loop.\n",
        "\n",
        "5. Using continue to Skip Negative Numbers:\n",
        "\n",
        " Print all positive numbers from -5 to 5, skipping negative numbers using a while loop.\n",
        "\n",
        "6. Using pass for Placeholder Logic:\n",
        "\n",
        " Calculate the sum of digits of a given number. Include a pass statement as a placeholder where the sum calculation logic should be added using a while loop."
      ],
      "metadata": {
        "id": "9V5WQH6aesay"
      }
    },
    {
      "cell_type": "markdown",
      "source": [
        "### if statemet practice question answers:"
      ],
      "metadata": {
        "id": "j1-dSbT6ORoB"
      }
    },
    {
      "cell_type": "code",
      "source": [
        "number = 5\n",
        "if number > 0:\n",
        "    print(\"Number is positive\")\n"
      ],
      "metadata": {
        "colab": {
          "base_uri": "https://localhost:8080/"
        },
        "id": "M9RPHa3Lq6vt",
        "outputId": "1992b0cf-752d-4169-ab78-50e57237fd3e"
      },
      "execution_count": null,
      "outputs": [
        {
          "output_type": "stream",
          "name": "stdout",
          "text": [
            "Number is positive\n"
          ]
        }
      ]
    },
    {
      "cell_type": "code",
      "source": [
        "number = 6\n",
        "if number % 2 == 0:\n",
        "    print(\"Number is even\")\n"
      ],
      "metadata": {
        "colab": {
          "base_uri": "https://localhost:8080/"
        },
        "id": "tv2jk0Mfq6y9",
        "outputId": "d762888f-539b-4ebe-a742-736fedd6b3ba"
      },
      "execution_count": null,
      "outputs": [
        {
          "output_type": "stream",
          "name": "stdout",
          "text": [
            "Number is even\n"
          ]
        }
      ]
    },
    {
      "cell_type": "code",
      "source": [
        "number = 85\n",
        "if number < 100:\n",
        "    print(\"Number is less than 100\")\n"
      ],
      "metadata": {
        "colab": {
          "base_uri": "https://localhost:8080/"
        },
        "id": "nNBXEW47q64V",
        "outputId": "a7773149-c9ce-4bb9-9bcf-711a74ac0454"
      },
      "execution_count": null,
      "outputs": [
        {
          "output_type": "stream",
          "name": "stdout",
          "text": [
            "Number is less than 100\n"
          ]
        }
      ]
    },
    {
      "cell_type": "code",
      "source": [
        "text = \"\"\n",
        "if not text:\n",
        "    print(\"Text is empty\")\n"
      ],
      "metadata": {
        "colab": {
          "base_uri": "https://localhost:8080/"
        },
        "id": "O74rtoGtOfzi",
        "outputId": "6747151f-d1cc-4868-987c-b56484e47e5b"
      },
      "execution_count": null,
      "outputs": [
        {
          "output_type": "stream",
          "name": "stdout",
          "text": [
            "Text is empty\n"
          ]
        }
      ]
    },
    {
      "cell_type": "code",
      "source": [
        "my_list = [1, 2, 3]\n",
        "if my_list:\n",
        "    print(\"List is not empty\")\n"
      ],
      "metadata": {
        "colab": {
          "base_uri": "https://localhost:8080/"
        },
        "id": "Ux-3Cr6QOf8R",
        "outputId": "24460e4c-4f99-4300-fe0e-51a1fb78b345"
      },
      "execution_count": null,
      "outputs": [
        {
          "output_type": "stream",
          "name": "stdout",
          "text": [
            "List is not empty\n"
          ]
        }
      ]
    },
    {
      "cell_type": "markdown",
      "source": [
        "### if_else statement practice question and answers:"
      ],
      "metadata": {
        "id": "3LtXGZa8QhLp"
      }
    },
    {
      "cell_type": "code",
      "source": [
        "number = int(input(\"Enter a number: \"))\n",
        "if number > 0:\n",
        "    print(\"Number is positive\")\n",
        "else:\n",
        "    print(\"Number is negative\")"
      ],
      "metadata": {
        "colab": {
          "base_uri": "https://localhost:8080/"
        },
        "id": "3lZA07BOQpf4",
        "outputId": "243719ee-068e-44cc-a62e-897dce615edb"
      },
      "execution_count": null,
      "outputs": [
        {
          "output_type": "stream",
          "name": "stdout",
          "text": [
            "Enter a number: 2\n",
            "Number is positive\n"
          ]
        }
      ]
    },
    {
      "cell_type": "code",
      "source": [
        "num1 = int(input(\"Enter first number: \"))\n",
        "num2 = int(input(\"Enter second number: \"))\n",
        "if num1 > num2:\n",
        "    print(\"The first number is bigger\")\n",
        "else:\n",
        "    print(\"The second number is bigger\")\n"
      ],
      "metadata": {
        "colab": {
          "base_uri": "https://localhost:8080/"
        },
        "id": "JuhTKqbwQpjA",
        "outputId": "1853c377-7745-4955-f4a3-26e106d2df88"
      },
      "execution_count": null,
      "outputs": [
        {
          "output_type": "stream",
          "name": "stdout",
          "text": [
            "Enter first number: 23\n",
            "Enter second number: 45\n",
            "The second number is bigger\n"
          ]
        }
      ]
    },
    {
      "cell_type": "code",
      "source": [
        "year = int(input(\"Enter a year: \"))\n",
        "if (year % 4 == 0 and year % 100 != 0) or (year % 400 == 0):\n",
        "    print(\"Leap year\")\n",
        "else:\n",
        "    print(\"Not a leap year\")\n"
      ],
      "metadata": {
        "colab": {
          "base_uri": "https://localhost:8080/"
        },
        "id": "bauE4PFAQpoX",
        "outputId": "f3cc793f-720f-4a81-bf57-3f1165f3e5e9"
      },
      "execution_count": null,
      "outputs": [
        {
          "output_type": "stream",
          "name": "stdout",
          "text": [
            "Enter a year: 2024\n",
            "Leap year\n"
          ]
        }
      ]
    },
    {
      "cell_type": "code",
      "source": [
        "year = int(input(\"Enter a year: \"))\n",
        "if year % 100 == 0:\n",
        "    print(\"Century year\")\n",
        "else:\n",
        "    print(\"Not a century year\")\n"
      ],
      "metadata": {
        "colab": {
          "base_uri": "https://localhost:8080/"
        },
        "id": "ambL90AgQprJ",
        "outputId": "48602bf6-a2de-4d7d-97f1-71527cd9789d"
      },
      "execution_count": null,
      "outputs": [
        {
          "output_type": "stream",
          "name": "stdout",
          "text": [
            "Enter a year: 2000\n",
            "Century year\n"
          ]
        }
      ]
    },
    {
      "cell_type": "code",
      "source": [
        "number = int(input(\"Enter a number: \"))\n",
        "if number % 2 == 0:\n",
        "    print(\"Number is even\")\n",
        "else:\n",
        "    print(\"Number is odd\")\n"
      ],
      "metadata": {
        "colab": {
          "base_uri": "https://localhost:8080/"
        },
        "id": "Vxurph-EQpts",
        "outputId": "eacb7ad7-6df1-4f56-810f-f6ce6da87279"
      },
      "execution_count": null,
      "outputs": [
        {
          "output_type": "stream",
          "name": "stdout",
          "text": [
            "Enter a number: 23\n",
            "Number is odd\n"
          ]
        }
      ]
    },
    {
      "cell_type": "markdown",
      "source": [
        "### if_elif_else statement practice question and answers"
      ],
      "metadata": {
        "id": "FlofueE4SQGw"
      }
    },
    {
      "cell_type": "code",
      "source": [
        "number = int(input(\"Enter a number: \"))\n",
        "if number > 0:\n",
        "    print(\"Number is positive\")\n",
        "elif number < 0:\n",
        "    print(\"Number is negative\")\n",
        "else:\n",
        "    print(\"Number is zero\")\n"
      ],
      "metadata": {
        "colab": {
          "base_uri": "https://localhost:8080/"
        },
        "id": "LpNHb-wJQpwA",
        "outputId": "8e9e49a8-86d5-4abb-faf6-5671b2cb69bf"
      },
      "execution_count": null,
      "outputs": [
        {
          "output_type": "stream",
          "name": "stdout",
          "text": [
            "Enter a number: 25\n",
            "Number is positive\n"
          ]
        }
      ]
    },
    {
      "cell_type": "code",
      "source": [
        "num1 = int(input(\"Enter first number: \"))\n",
        "num2 = int(input(\"Enter second number: \"))\n",
        "num3 = int(input(\"Enter third number: \"))\n",
        "if num1 >= num2 and num1 >= num3:\n",
        "    print(\"The first number is bigger\")\n",
        "elif num2 >= num1 and num2 >= num3:\n",
        "    print(\"The second number is bigger\")\n",
        "else:\n",
        "    print(\"The third number is bigger\")\n"
      ],
      "metadata": {
        "colab": {
          "base_uri": "https://localhost:8080/"
        },
        "id": "9siWvTqxQpy8",
        "outputId": "80451101-2c07-46c7-b2ee-d1d1f3d0cda3"
      },
      "execution_count": null,
      "outputs": [
        {
          "output_type": "stream",
          "name": "stdout",
          "text": [
            "Enter first number: 23\n",
            "Enter second number: 25\n",
            "Enter third number: 12\n",
            "The second number is bigger\n"
          ]
        }
      ]
    },
    {
      "cell_type": "code",
      "source": [
        "age = int(input(\"Enter your age: \"))\n",
        "if age <= 12:\n",
        "    print(\"Child\")\n",
        "elif age <= 19:\n",
        "    print(\"Teen\")\n",
        "elif age <= 59:\n",
        "    print(\"Adult\")\n",
        "else:\n",
        "    print(\"Senior\")\n"
      ],
      "metadata": {
        "colab": {
          "base_uri": "https://localhost:8080/"
        },
        "id": "egHK9BwlSauI",
        "outputId": "92823b05-9412-4c03-b5e7-257fdf40411f"
      },
      "execution_count": null,
      "outputs": [
        {
          "output_type": "stream",
          "name": "stdout",
          "text": [
            "Enter your age: 56\n",
            "Adult\n"
          ]
        }
      ]
    },
    {
      "cell_type": "code",
      "source": [
        "score = int(input(\"Enter your score: \"))\n",
        "if score >= 50:\n",
        "    print(\"Pass\")\n",
        "else:\n",
        "    print(\"Fail\")\n"
      ],
      "metadata": {
        "colab": {
          "base_uri": "https://localhost:8080/"
        },
        "id": "n_nuSDLjSeSo",
        "outputId": "ffffa40c-5988-4e41-f211-0cfbc35ff478"
      },
      "execution_count": null,
      "outputs": [
        {
          "output_type": "stream",
          "name": "stdout",
          "text": [
            "Enter your score: 49\n",
            "Fail\n"
          ]
        }
      ]
    },
    {
      "cell_type": "code",
      "source": [
        "x = float(input(\"Enter x coordinate: \"))\n",
        "y = float(input(\"Enter y coordinate: \"))\n",
        "if x > 0 and y > 0:\n",
        "    print(\"1st Quadrant\")\n",
        "elif x < 0 and y > 0:\n",
        "    print(\"2nd Quadrant\")\n",
        "elif x < 0 and y < 0:\n",
        "    print(\"3rd Quadrant\")\n",
        "elif x > 0 and y < 0:\n",
        "    print(\"4th Quadrant\")\n",
        "else:\n",
        "    print(\"Origin\")\n"
      ],
      "metadata": {
        "colab": {
          "base_uri": "https://localhost:8080/"
        },
        "id": "HdaN4EjSSebg",
        "outputId": "4ed6274e-7598-4a47-f855-2fe24b8a48d5"
      },
      "execution_count": null,
      "outputs": [
        {
          "output_type": "stream",
          "name": "stdout",
          "text": [
            "Enter x coordinate: 6\n",
            "Enter y coordinate: 23\n",
            "1st Quadrant\n"
          ]
        }
      ]
    },
    {
      "cell_type": "markdown",
      "source": [
        "### short hand if_else statement practice questions and answers:"
      ],
      "metadata": {
        "id": "T33btgE7T-hA"
      }
    },
    {
      "cell_type": "code",
      "source": [
        "number = int(input(\"Enter a number: \"))\n",
        "result = \"Positive\" if number > 0 else \"Negative\"\n",
        "print(result)\n"
      ],
      "metadata": {
        "colab": {
          "base_uri": "https://localhost:8080/"
        },
        "id": "M8-TYrqIULSe",
        "outputId": "e3df7292-1701-45ee-ec5e-fbab76152cc5"
      },
      "execution_count": null,
      "outputs": [
        {
          "output_type": "stream",
          "name": "stdout",
          "text": [
            "Enter a number: 23\n",
            "Positive\n"
          ]
        }
      ]
    },
    {
      "cell_type": "code",
      "source": [
        "num1 = int(input(\"Enter first number: \"))\n",
        "num2 = int(input(\"Enter second number: \"))\n",
        "result = num1 if num1 > num2 else num2\n",
        "print(f\"The bigger number is: {result}\")\n"
      ],
      "metadata": {
        "colab": {
          "base_uri": "https://localhost:8080/"
        },
        "id": "Or984a4BULVf",
        "outputId": "9bb761a3-7815-4aef-a612-a4d516e8b471"
      },
      "execution_count": null,
      "outputs": [
        {
          "output_type": "stream",
          "name": "stdout",
          "text": [
            "Enter first number: 23\n",
            "Enter second number: 56\n",
            "The bigger number is: 56\n"
          ]
        }
      ]
    },
    {
      "cell_type": "code",
      "source": [
        "score = int(input(\"Enter your score: \"))\n",
        "result = \"Pass\" if score >= 50 else \"Fail\"\n",
        "print(result)\n"
      ],
      "metadata": {
        "colab": {
          "base_uri": "https://localhost:8080/"
        },
        "id": "LXVYgFsYULYH",
        "outputId": "95dc6821-e81c-4085-bb6e-20892a19396a"
      },
      "execution_count": null,
      "outputs": [
        {
          "output_type": "stream",
          "name": "stdout",
          "text": [
            "Enter your score: 56\n",
            "Pass\n"
          ]
        }
      ]
    },
    {
      "cell_type": "code",
      "source": [
        "x = float(input(\"Enter x coordinate: \"))\n",
        "y = float(input(\"Enter y coordinate: \"))\n",
        "result = \"1st Quadrant\" if x > 0 and y > 0 else \"2nd Quadrant\" if x < 0 and y > 0 else \"3rd Quadrant\" if x < 0 and y < 0 else \"4th Quadrant\" if x > 0 and y < 0 else \"Origin\"\n",
        "print(result)\n"
      ],
      "metadata": {
        "colab": {
          "base_uri": "https://localhost:8080/"
        },
        "id": "-Js8vn2eULdL",
        "outputId": "2e1ce46e-4f2a-423c-ea08-60d6e28df83d"
      },
      "execution_count": null,
      "outputs": [
        {
          "output_type": "stream",
          "name": "stdout",
          "text": [
            "Enter x coordinate: 23\n",
            "Enter y coordinate: -24\n",
            "4th Quadrant\n"
          ]
        }
      ]
    },
    {
      "cell_type": "markdown",
      "source": [
        "### nested if statement question and answers;"
      ],
      "metadata": {
        "id": "2hFPqGfdVQI9"
      }
    },
    {
      "cell_type": "code",
      "source": [
        "age = int(input(\"Enter your age: \"))\n",
        "gender = input(\"Enter your gender (Male/Female): \")\n",
        "\n",
        "if gender == \"Male\":\n",
        "    if age <= 12:\n",
        "        print(\"Child (Male)\")\n",
        "    elif age <= 19:\n",
        "        print(\"Teen (Male)\")\n",
        "    elif age <= 59:\n",
        "        print(\"Adult (Male)\")\n",
        "    else:\n",
        "        print(\"Senior (Male)\")\n",
        "elif gender == \"Female\":\n",
        "    if age <= 12:\n",
        "        print(\"Child (Female)\")\n",
        "    elif age <= 19:\n",
        "        print(\"Teen (Female)\")\n",
        "    elif age <= 59:\n",
        "        print(\"Adult (Female)\")\n",
        "    else:\n",
        "        print(\"Senior (Female)\")\n",
        "else:\n",
        "    print(\"Invalid gender input.\")\n"
      ],
      "metadata": {
        "colab": {
          "base_uri": "https://localhost:8080/"
        },
        "id": "7QSc8NpaULgW",
        "outputId": "ae85e390-5d39-4118-e200-e7d7fa249bab"
      },
      "execution_count": null,
      "outputs": [
        {
          "output_type": "stream",
          "name": "stdout",
          "text": [
            "Enter your age: 25\n",
            "Enter your gender (Male/Female): Male\n",
            "Adult (Male)\n"
          ]
        }
      ]
    },
    {
      "cell_type": "code",
      "source": [
        "num1 = int(input(\"Enter first number: \"))\n",
        "num2 = int(input(\"Enter second number: \"))\n",
        "num3 = int(input(\"Enter third number: \"))\n",
        "\n",
        "if num1 >= num2:\n",
        "    if num1 >= num3:\n",
        "        print(\"The first number is the maximum\")\n",
        "    else:\n",
        "        print(\"The third number is the maximum\")\n",
        "elif num2 >= num3:\n",
        "    print(\"The second number is the maximum\")\n",
        "else:\n",
        "    print(\"The third number is the maximum\")\n"
      ],
      "metadata": {
        "colab": {
          "base_uri": "https://localhost:8080/"
        },
        "id": "bvyCtGUXULjO",
        "outputId": "6e367e65-0925-4a9d-acba-c29b2f75c6ab"
      },
      "execution_count": null,
      "outputs": [
        {
          "output_type": "stream",
          "name": "stdout",
          "text": [
            "Enter first number: 23\n",
            "Enter second number: 56\n",
            "Enter third number: 89\n",
            "The third number is the maximum\n"
          ]
        }
      ]
    },
    {
      "cell_type": "code",
      "source": [
        "quantity = int(input(\"Enter the quantity of items: \"))\n",
        "\n",
        "if quantity <= 2:\n",
        "    discount = 0\n",
        "elif quantity <= 5:\n",
        "    discount = 0.10\n",
        "else:\n",
        "    discount = 0.20\n",
        "\n",
        "total_price = 100 * quantity * (1 - discount)\n",
        "print(f\"Total price after discount: {total_price:.2f}\")\n"
      ],
      "metadata": {
        "colab": {
          "base_uri": "https://localhost:8080/"
        },
        "id": "pNI0bdHIULoN",
        "outputId": "7725675e-f90b-48a7-cabd-c6082afe3fe6"
      },
      "execution_count": null,
      "outputs": [
        {
          "output_type": "stream",
          "name": "stdout",
          "text": [
            "Enter the quantity of items: 56\n",
            "Total price after discount: 4480.00\n"
          ]
        }
      ]
    },
    {
      "cell_type": "code",
      "source": [
        "score = int(input(\"Enter your score: \"))\n",
        "\n",
        "if score >= 90:\n",
        "    bonus = 5\n",
        "elif score >= 80:\n",
        "    bonus = 2\n",
        "else:\n",
        "    bonus = 0\n",
        "\n",
        "final_score = score + bonus\n",
        "print(f\"Final score with bonus points: {final_score}\")\n"
      ],
      "metadata": {
        "colab": {
          "base_uri": "https://localhost:8080/"
        },
        "id": "-8CnRlkrVgV7",
        "outputId": "4932bbc4-9c3c-4ef7-e8fe-7f6e099ecc2e"
      },
      "execution_count": null,
      "outputs": [
        {
          "output_type": "stream",
          "name": "stdout",
          "text": [
            "Enter your score: 80\n",
            "Final score with bonus points: 82\n"
          ]
        }
      ]
    },
    {
      "cell_type": "code",
      "source": [
        "score = int(input(\"Enter your score: \"))\n",
        "\n",
        "if score >= 90:\n",
        "    performance = \"Excellent\"\n",
        "elif score >= 80:\n",
        "    performance = \"Good\"\n",
        "elif score >= 70:\n",
        "    performance = \"Average\"\n",
        "else:\n",
        "    performance = \"Needs Improvement\"\n",
        "\n",
        "print(f\"Student's performance: {performance}\")\n"
      ],
      "metadata": {
        "colab": {
          "base_uri": "https://localhost:8080/"
        },
        "id": "SuolkGizVihb",
        "outputId": "97e4f310-c66c-480f-e9b3-51b5937a3a01"
      },
      "execution_count": null,
      "outputs": [
        {
          "output_type": "stream",
          "name": "stdout",
          "text": [
            "Enter your score: 82\n",
            "Student's performance: Good\n"
          ]
        }
      ]
    },
    {
      "cell_type": "markdown",
      "source": [
        "### **For loop Practical Questions and answer:**\n"
      ],
      "metadata": {
        "id": "QRTk426CM31I"
      }
    },
    {
      "cell_type": "code",
      "source": [
        "fruits = ['apple', 'banana', 'orange', 'grape']\n",
        "\n",
        "for fruit in fruits:\n",
        "    print(fruit)\n"
      ],
      "metadata": {
        "colab": {
          "base_uri": "https://localhost:8080/"
        },
        "id": "-KRSXxsbNGBA",
        "outputId": "7c4351ba-4ae1-453e-9efc-91a44c895525"
      },
      "execution_count": null,
      "outputs": [
        {
          "output_type": "stream",
          "name": "stdout",
          "text": [
            "apple\n",
            "banana\n",
            "orange\n",
            "grape\n"
          ]
        }
      ]
    },
    {
      "cell_type": "code",
      "source": [
        "people = [('Alice', 25), ('Bob', 30), ('Charlie', 22)]\n",
        "\n",
        "for person in people:\n",
        "    name, age = person\n",
        "    print(name, age)\n"
      ],
      "metadata": {
        "colab": {
          "base_uri": "https://localhost:8080/"
        },
        "id": "JmM1HZguNIMg",
        "outputId": "39729ce1-6cbe-4310-bc48-0a17c2b545bf"
      },
      "execution_count": null,
      "outputs": [
        {
          "output_type": "stream",
          "name": "stdout",
          "text": [
            "Alice 25\n",
            "Bob 30\n",
            "Charlie 22\n"
          ]
        }
      ]
    },
    {
      "cell_type": "code",
      "source": [
        "text = \"hello world\"\n",
        "vowels = \"aeiou\"\n",
        "\n",
        "count = 0\n",
        "for char in text:\n",
        "    if char in vowels:\n",
        "        count += 1\n",
        "\n",
        "print(\"Number of vowels:\", count)\n"
      ],
      "metadata": {
        "colab": {
          "base_uri": "https://localhost:8080/"
        },
        "id": "d0t2lRyBNISo",
        "outputId": "0639214c-93d1-4efa-e8fd-d411710eefe8"
      },
      "execution_count": null,
      "outputs": [
        {
          "output_type": "stream",
          "name": "stdout",
          "text": [
            "Number of vowels: 3\n"
          ]
        }
      ]
    },
    {
      "cell_type": "code",
      "source": [
        "colors = {'red', 'green', 'blue', 'red', 'yellow'}\n",
        "\n",
        "for color in colors:\n",
        "    print(color)\n"
      ],
      "metadata": {
        "colab": {
          "base_uri": "https://localhost:8080/"
        },
        "id": "mOet5UhrNIWt",
        "outputId": "c278d1d4-8c65-42c5-8db9-cb927ffbd584"
      },
      "execution_count": null,
      "outputs": [
        {
          "output_type": "stream",
          "name": "stdout",
          "text": [
            "yellow\n",
            "green\n",
            "red\n",
            "blue\n"
          ]
        }
      ]
    },
    {
      "cell_type": "code",
      "source": [
        "student_scores = {'Alice': 85, 'Bob': 92, 'Charlie': 78}\n",
        "\n",
        "for student, score in student_scores.items():\n",
        "    print(student, \"scored\", score)\n"
      ],
      "metadata": {
        "colab": {
          "base_uri": "https://localhost:8080/"
        },
        "id": "Zyz_dIXbNIZg",
        "outputId": "a7bb86c8-c263-4745-88c7-acd4ef2ade45"
      },
      "execution_count": null,
      "outputs": [
        {
          "output_type": "stream",
          "name": "stdout",
          "text": [
            "Alice scored 85\n",
            "Bob scored 92\n",
            "Charlie scored 78\n"
          ]
        }
      ]
    },
    {
      "cell_type": "markdown",
      "source": [
        "## **for loop with range function:**"
      ],
      "metadata": {
        "id": "4icV_df-OPz4"
      }
    },
    {
      "cell_type": "code",
      "source": [
        "for num in range(1, 11):\n",
        "    print(num)\n"
      ],
      "metadata": {
        "colab": {
          "base_uri": "https://localhost:8080/"
        },
        "id": "lcvwWmMYNIeU",
        "outputId": "08dfcf93-36fb-4cbd-acfe-4b3915cb717b"
      },
      "execution_count": null,
      "outputs": [
        {
          "output_type": "stream",
          "name": "stdout",
          "text": [
            "1\n",
            "2\n",
            "3\n",
            "4\n",
            "5\n",
            "6\n",
            "7\n",
            "8\n",
            "9\n",
            "10\n"
          ]
        }
      ]
    },
    {
      "cell_type": "code",
      "source": [
        "sum_even = 0\n",
        "for num in range(2, 21, 2):\n",
        "    sum_even += num\n",
        "\n",
        "print(\"Sum of even numbers:\", sum_even)\n"
      ],
      "metadata": {
        "colab": {
          "base_uri": "https://localhost:8080/"
        },
        "id": "IyOtSvV4Ou0X",
        "outputId": "a17c7068-848a-47a8-d5ab-d9f1cdc6afc8"
      },
      "execution_count": null,
      "outputs": [
        {
          "output_type": "stream",
          "name": "stdout",
          "text": [
            "Sum of even numbers: 110\n"
          ]
        }
      ]
    },
    {
      "cell_type": "code",
      "source": [
        "number = 5\n",
        "for i in range(1, 11):\n",
        "    result = number * i\n",
        "    print(f\"{number} * {i} = {result}\")\n"
      ],
      "metadata": {
        "colab": {
          "base_uri": "https://localhost:8080/"
        },
        "id": "je1TomkiOu6X",
        "outputId": "523fdb8b-e647-4fd1-9dd7-46cf5593448d"
      },
      "execution_count": null,
      "outputs": [
        {
          "output_type": "stream",
          "name": "stdout",
          "text": [
            "5 * 1 = 5\n",
            "5 * 2 = 10\n",
            "5 * 3 = 15\n",
            "5 * 4 = 20\n",
            "5 * 5 = 25\n",
            "5 * 6 = 30\n",
            "5 * 7 = 35\n",
            "5 * 8 = 40\n",
            "5 * 9 = 45\n",
            "5 * 10 = 50\n"
          ]
        }
      ]
    },
    {
      "cell_type": "code",
      "source": [
        "for num in range(10, 0, -1):\n",
        "    print(num)\n"
      ],
      "metadata": {
        "colab": {
          "base_uri": "https://localhost:8080/"
        },
        "id": "uYAJqNjTOu9n",
        "outputId": "099712c2-b4fb-4bb1-e221-dd262c1a9d33"
      },
      "execution_count": null,
      "outputs": [
        {
          "output_type": "stream",
          "name": "stdout",
          "text": [
            "10\n",
            "9\n",
            "8\n",
            "7\n",
            "6\n",
            "5\n",
            "4\n",
            "3\n",
            "2\n",
            "1\n"
          ]
        }
      ]
    },
    {
      "cell_type": "code",
      "source": [
        "for num in range(1, 6):\n",
        "    square = num ** 2\n",
        "    print(f\"{num} squared is {square}\")\n"
      ],
      "metadata": {
        "colab": {
          "base_uri": "https://localhost:8080/"
        },
        "id": "ZWlTnG0FOvBP",
        "outputId": "3ad68fb7-1c6d-446f-f407-b2a05568cdd8"
      },
      "execution_count": null,
      "outputs": [
        {
          "output_type": "stream",
          "name": "stdout",
          "text": [
            "1 squared is 1\n",
            "2 squared is 4\n",
            "3 squared is 9\n",
            "4 squared is 16\n",
            "5 squared is 25\n"
          ]
        }
      ]
    },
    {
      "cell_type": "markdown",
      "source": [
        "## **for loop break continue and pass statement:**"
      ],
      "metadata": {
        "id": "mXYvIEt7QIr3"
      }
    },
    {
      "cell_type": "code",
      "source": [
        "numbers = [3, 5, 8, 11, 14, 17]\n",
        "\n",
        "for num in numbers:\n",
        "    if num % 2 == 0:\n",
        "        print(\"Found the first even number:\", num)\n",
        "        break\n"
      ],
      "metadata": {
        "colab": {
          "base_uri": "https://localhost:8080/"
        },
        "id": "iCEMigoDOvHv",
        "outputId": "e183248e-1cf3-43dd-ae83-585446d4c983"
      },
      "execution_count": null,
      "outputs": [
        {
          "output_type": "stream",
          "name": "stdout",
          "text": [
            "Found the first even number: 8\n"
          ]
        }
      ]
    },
    {
      "cell_type": "code",
      "source": [
        "for num in range(1, 11):\n",
        "    if num == 7:\n",
        "        continue\n",
        "    if num % 2 != 0:\n",
        "        print(num)\n"
      ],
      "metadata": {
        "colab": {
          "base_uri": "https://localhost:8080/"
        },
        "id": "YGCcAo9ZQRau",
        "outputId": "46406efd-0356-4e5a-f5bf-3aef79249262"
      },
      "execution_count": null,
      "outputs": [
        {
          "output_type": "stream",
          "name": "stdout",
          "text": [
            "1\n",
            "3\n",
            "5\n",
            "9\n"
          ]
        }
      ]
    },
    {
      "cell_type": "code",
      "source": [
        "number = 50\n",
        "\n",
        "for num in range(number + 1, number * 7):\n",
        "    if num % 7 == 0:\n",
        "        print(\"Smallest multiple of 7 greater than 50:\", num)\n",
        "        break\n"
      ],
      "metadata": {
        "colab": {
          "base_uri": "https://localhost:8080/"
        },
        "id": "WVH8APjmQRkn",
        "outputId": "6c81bcab-ee0b-47cd-b183-8aac64136722"
      },
      "execution_count": null,
      "outputs": [
        {
          "output_type": "stream",
          "name": "stdout",
          "text": [
            "Smallest multiple of 7 greater than 50: 56\n"
          ]
        }
      ]
    },
    {
      "cell_type": "code",
      "source": [
        "for num in range(1, 21):\n",
        "    if num % 6 == 0:\n",
        "        continue\n",
        "    if num % 2 == 0:\n",
        "        print(num)\n"
      ],
      "metadata": {
        "colab": {
          "base_uri": "https://localhost:8080/"
        },
        "id": "c-0MmeBNQRnW",
        "outputId": "927ccffb-37a8-4da1-ed5f-5db5977bba64"
      },
      "execution_count": null,
      "outputs": [
        {
          "output_type": "stream",
          "name": "stdout",
          "text": [
            "2\n",
            "4\n",
            "8\n",
            "10\n",
            "14\n",
            "16\n",
            "20\n"
          ]
        }
      ]
    },
    {
      "cell_type": "code",
      "source": [
        "fib_sequence = [0, 1]\n",
        "\n",
        "for i in range(2, 10):\n",
        "    # Fibonacci calculation logic should be added here\n",
        "    pass\n",
        "\n",
        "print(fib_sequence)\n"
      ],
      "metadata": {
        "colab": {
          "base_uri": "https://localhost:8080/"
        },
        "id": "fwSbHL9nQRpu",
        "outputId": "9dcf01fe-8012-4e36-8fc0-3f3c0419567f"
      },
      "execution_count": null,
      "outputs": [
        {
          "output_type": "stream",
          "name": "stdout",
          "text": [
            "[0, 1]\n"
          ]
        }
      ]
    },
    {
      "cell_type": "markdown",
      "source": [
        "## **for loop with if-else statement:**"
      ],
      "metadata": {
        "id": "19qorV71SCNu"
      }
    },
    {
      "cell_type": "code",
      "source": [
        "for num in range(1, 11):\n",
        "    if num > 1:\n",
        "        is_prime = True\n",
        "        for i in range(2, num):\n",
        "            if num % i == 0:\n",
        "                is_prime = False\n",
        "                break\n",
        "        if is_prime:\n",
        "            print(num, \"is prime\")\n",
        "        else:\n",
        "            print(num, \"is not prime\")\n",
        "    else:\n",
        "        print(num, \"is not prime\")\n"
      ],
      "metadata": {
        "colab": {
          "base_uri": "https://localhost:8080/"
        },
        "id": "Q23AqicWQRro",
        "outputId": "43c65bd4-515a-4d18-abc2-8d2ee7a094cb"
      },
      "execution_count": null,
      "outputs": [
        {
          "output_type": "stream",
          "name": "stdout",
          "text": [
            "1 is not prime\n",
            "2 is prime\n",
            "3 is prime\n",
            "4 is not prime\n",
            "5 is prime\n",
            "6 is not prime\n",
            "7 is prime\n",
            "8 is not prime\n",
            "9 is not prime\n",
            "10 is not prime\n"
          ]
        }
      ]
    },
    {
      "cell_type": "code",
      "source": [
        "for num in range(1, 11):\n",
        "    if num % 2 == 0:\n",
        "        print(num, \"is even\")\n",
        "    else:\n",
        "        print(num, \"is odd\")\n"
      ],
      "metadata": {
        "colab": {
          "base_uri": "https://localhost:8080/"
        },
        "id": "F0xCNfsaSJSm",
        "outputId": "b21e7be0-1d2d-4690-e162-6f9289042d65"
      },
      "execution_count": null,
      "outputs": [
        {
          "output_type": "stream",
          "name": "stdout",
          "text": [
            "1 is odd\n",
            "2 is even\n",
            "3 is odd\n",
            "4 is even\n",
            "5 is odd\n",
            "6 is even\n",
            "7 is odd\n",
            "8 is even\n",
            "9 is odd\n",
            "10 is even\n"
          ]
        }
      ]
    },
    {
      "cell_type": "code",
      "source": [
        "scores = [85, 92, 78, 65, 95]\n",
        "\n",
        "for score in scores:\n",
        "    if score >= 90:\n",
        "        grade = 'A'\n",
        "    elif score >= 80:\n",
        "        grade = 'B'\n",
        "    elif score >= 70:\n",
        "        grade = 'C'\n",
        "    elif score >= 60:\n",
        "        grade = 'D'\n",
        "    else:\n",
        "        grade = 'F'\n",
        "    print(\"Score:\", score, \"Grade:\", grade)\n"
      ],
      "metadata": {
        "colab": {
          "base_uri": "https://localhost:8080/"
        },
        "id": "k8Rxu-_NSJVe",
        "outputId": "4b4bb6e5-64f8-4338-da5e-ab51d5e22da0"
      },
      "execution_count": null,
      "outputs": [
        {
          "output_type": "stream",
          "name": "stdout",
          "text": [
            "Score: 85 Grade: B\n",
            "Score: 92 Grade: A\n",
            "Score: 78 Grade: C\n",
            "Score: 65 Grade: D\n",
            "Score: 95 Grade: A\n"
          ]
        }
      ]
    },
    {
      "cell_type": "code",
      "source": [
        "numbers = [3, -1, 0, 5, -2, 0, -4]\n",
        "\n",
        "positive_count = 0\n",
        "negative_count = 0\n",
        "zero_count = 0\n",
        "\n",
        "for num in numbers:\n",
        "    if num > 0:\n",
        "        positive_count += 1\n",
        "    elif num < 0:\n",
        "        negative_count += 1\n",
        "    else:\n",
        "        zero_count += 1\n",
        "\n",
        "print(\"Positive:\", positive_count)\n",
        "print(\"Negative:\", negative_count)\n",
        "print(\"Zero:\", zero_count)\n"
      ],
      "metadata": {
        "colab": {
          "base_uri": "https://localhost:8080/"
        },
        "id": "ykG2IwBdSJX3",
        "outputId": "8b40afea-57d7-4ea6-9ede-fc395b06585f"
      },
      "execution_count": null,
      "outputs": [
        {
          "output_type": "stream",
          "name": "stdout",
          "text": [
            "Positive: 2\n",
            "Negative: 3\n",
            "Zero: 2\n"
          ]
        }
      ]
    },
    {
      "cell_type": "code",
      "source": [
        "words = ['apple', 'banana', 'cherry', 'date', 'fig']\n",
        "\n",
        "for word in words:\n",
        "    if len(word) % 2 == 0:\n",
        "        category = 'even'\n",
        "    else:\n",
        "        category = 'odd'\n",
        "    print(f\"The word '{word}' has {category} number of characters\")\n"
      ],
      "metadata": {
        "colab": {
          "base_uri": "https://localhost:8080/"
        },
        "id": "6FCRIIWmSJaf",
        "outputId": "e448c90f-7f1d-4918-9d1b-6a8ff7b6cfbd"
      },
      "execution_count": null,
      "outputs": [
        {
          "output_type": "stream",
          "name": "stdout",
          "text": [
            "The word 'apple' has odd number of characters\n",
            "The word 'banana' has even number of characters\n",
            "The word 'cherry' has even number of characters\n",
            "The word 'date' has even number of characters\n",
            "The word 'fig' has odd number of characters\n"
          ]
        }
      ]
    },
    {
      "cell_type": "code",
      "source": [
        "words = ['radar', 'hello', 'level', 'python', 'madam']\n",
        "\n",
        "for word in words:\n",
        "    if word == word[::-1]:\n",
        "        print(f\"'{word}' is a palindrome\")\n",
        "    else:\n",
        "        print(f\"'{word}' is not a palindrome\")\n"
      ],
      "metadata": {
        "colab": {
          "base_uri": "https://localhost:8080/"
        },
        "id": "m1zEkSyFQRuK",
        "outputId": "8e3901b1-a16b-4740-fcd0-65f32b067ca5"
      },
      "execution_count": null,
      "outputs": [
        {
          "output_type": "stream",
          "name": "stdout",
          "text": [
            "'radar' is a palindrome\n",
            "'hello' is not a palindrome\n",
            "'level' is a palindrome\n",
            "'python' is not a palindrome\n",
            "'madam' is a palindrome\n"
          ]
        }
      ]
    },
    {
      "cell_type": "code",
      "source": [
        "for year in range(2000, 2021):\n",
        "    if (year % 4 == 0 and year % 100 != 0) or (year % 400 == 0):\n",
        "        print(year, \"is a leap year\")\n",
        "    else:\n",
        "        print(year, \"is not a leap year\")\n"
      ],
      "metadata": {
        "colab": {
          "base_uri": "https://localhost:8080/"
        },
        "id": "emFNclrtSYx-",
        "outputId": "d9f078c4-f5ed-4c91-fa18-dc3276db82c4"
      },
      "execution_count": null,
      "outputs": [
        {
          "output_type": "stream",
          "name": "stdout",
          "text": [
            "2000 is a leap year\n",
            "2001 is not a leap year\n",
            "2002 is not a leap year\n",
            "2003 is not a leap year\n",
            "2004 is a leap year\n",
            "2005 is not a leap year\n",
            "2006 is not a leap year\n",
            "2007 is not a leap year\n",
            "2008 is a leap year\n",
            "2009 is not a leap year\n",
            "2010 is not a leap year\n",
            "2011 is not a leap year\n",
            "2012 is a leap year\n",
            "2013 is not a leap year\n",
            "2014 is not a leap year\n",
            "2015 is not a leap year\n",
            "2016 is a leap year\n",
            "2017 is not a leap year\n",
            "2018 is not a leap year\n",
            "2019 is not a leap year\n",
            "2020 is a leap year\n"
          ]
        }
      ]
    },
    {
      "cell_type": "code",
      "source": [
        "text = \"Hello World! 123\"\n",
        "\n",
        "for char in text:\n",
        "    if char.isupper():\n",
        "        print(f\"'{char}' is an uppercase letter\")\n",
        "    elif char.islower():\n",
        "        print(f\"'{char}' is a lowercase letter\")\n",
        "    else:\n",
        "        print(f\"'{char}' is neither uppercase nor lowercase\")\n"
      ],
      "metadata": {
        "colab": {
          "base_uri": "https://localhost:8080/"
        },
        "id": "qF8qO6iVSY3H",
        "outputId": "52c86d68-4362-4ccd-8527-69a821c5bb73"
      },
      "execution_count": null,
      "outputs": [
        {
          "output_type": "stream",
          "name": "stdout",
          "text": [
            "'H' is an uppercase letter\n",
            "'e' is a lowercase letter\n",
            "'l' is a lowercase letter\n",
            "'l' is a lowercase letter\n",
            "'o' is a lowercase letter\n",
            "' ' is neither uppercase nor lowercase\n",
            "'W' is an uppercase letter\n",
            "'o' is a lowercase letter\n",
            "'r' is a lowercase letter\n",
            "'l' is a lowercase letter\n",
            "'d' is a lowercase letter\n",
            "'!' is neither uppercase nor lowercase\n",
            "' ' is neither uppercase nor lowercase\n",
            "'1' is neither uppercase nor lowercase\n",
            "'2' is neither uppercase nor lowercase\n",
            "'3' is neither uppercase nor lowercase\n"
          ]
        }
      ]
    },
    {
      "cell_type": "code",
      "source": [
        "numbers = [-2, 5, 0, -8, 3, 0, 9]\n",
        "\n",
        "for num in numbers:\n",
        "    if num > 0:\n",
        "        category = 'positive'\n",
        "    elif num < 0:\n",
        "        category = 'negative'\n",
        "    else:\n",
        "        category = 'zero'\n",
        "    print(f\"{num} is {category}\")\n"
      ],
      "metadata": {
        "colab": {
          "base_uri": "https://localhost:8080/"
        },
        "id": "Fw6_KPrwSY9p",
        "outputId": "51f1925e-94ef-461a-e2a9-231cac970411"
      },
      "execution_count": null,
      "outputs": [
        {
          "output_type": "stream",
          "name": "stdout",
          "text": [
            "-2 is negative\n",
            "5 is positive\n",
            "0 is zero\n",
            "-8 is negative\n",
            "3 is positive\n",
            "0 is zero\n",
            "9 is positive\n"
          ]
        }
      ]
    },
    {
      "cell_type": "code",
      "source": [
        "sentences = [\"A man a plan a canal Panama\", \"Hello world\", \"Was it a car or a cat I saw\", \"Python is cool\"]\n",
        "\n",
        "for sentence in sentences:\n",
        "    cleaned_sentence = ''.join(filter(str.isalnum, sentence)).lower()\n",
        "    if cleaned_sentence == cleaned_sentence[::-1]:\n",
        "        print(f\"'{sentence}' is a palindrome\")\n",
        "    else:\n",
        "        print(f\"'{sentence}' is not a palindrome\")\n"
      ],
      "metadata": {
        "colab": {
          "base_uri": "https://localhost:8080/"
        },
        "id": "Hukypqm_SZD2",
        "outputId": "489bf75d-5096-4074-d5b3-f673c1e93488"
      },
      "execution_count": null,
      "outputs": [
        {
          "output_type": "stream",
          "name": "stdout",
          "text": [
            "'A man a plan a canal Panama' is a palindrome\n",
            "'Hello world' is not a palindrome\n",
            "'Was it a car or a cat I saw' is a palindrome\n",
            "'Python is cool' is not a palindrome\n"
          ]
        }
      ]
    },
    {
      "cell_type": "markdown",
      "source": [
        "## **Short hand for loop:**"
      ],
      "metadata": {
        "id": "ZXQu445sTWzN"
      }
    },
    {
      "cell_type": "code",
      "source": [
        "squared_numbers = [num ** 2 for num in range(1, 6)]\n",
        "print(squared_numbers)"
      ],
      "metadata": {
        "colab": {
          "base_uri": "https://localhost:8080/"
        },
        "id": "0KqL6c8nTb3l",
        "outputId": "327d3361-fa6c-4598-be9e-80f6e9b72fec"
      },
      "execution_count": null,
      "outputs": [
        {
          "output_type": "stream",
          "name": "stdout",
          "text": [
            "[1, 4, 9, 16, 25]\n"
          ]
        }
      ]
    },
    {
      "cell_type": "code",
      "source": [
        "even_numbers = [num for num in range(1, 11) if num % 2 == 0]\n",
        "print(even_numbers)"
      ],
      "metadata": {
        "colab": {
          "base_uri": "https://localhost:8080/"
        },
        "id": "-zZRtRJdTcAF",
        "outputId": "4da2a389-8633-4b64-ec91-392b12360a06"
      },
      "execution_count": null,
      "outputs": [
        {
          "output_type": "stream",
          "name": "stdout",
          "text": [
            "[2, 4, 6, 8, 10]\n"
          ]
        }
      ]
    },
    {
      "cell_type": "code",
      "source": [
        "pattern = ['*' * num for num in range(1, 6)]\n",
        "for line in pattern:\n",
        "    print(line)\n"
      ],
      "metadata": {
        "colab": {
          "base_uri": "https://localhost:8080/"
        },
        "id": "CHpJ49GFTcC2",
        "outputId": "ef69a211-a6f4-4409-ebfc-f314ee2a5a8d"
      },
      "execution_count": null,
      "outputs": [
        {
          "output_type": "stream",
          "name": "stdout",
          "text": [
            "*\n",
            "**\n",
            "***\n",
            "****\n",
            "*****\n"
          ]
        }
      ]
    },
    {
      "cell_type": "code",
      "source": [
        "words = ['apple', 'banana', 'cherry']\n",
        "uppercase_words = [word.upper() for word in words]\n",
        "print(uppercase_words)\n"
      ],
      "metadata": {
        "colab": {
          "base_uri": "https://localhost:8080/"
        },
        "id": "dTrdE7aDTcFp",
        "outputId": "cf945d25-8a20-4265-892c-42993f8894fd"
      },
      "execution_count": null,
      "outputs": [
        {
          "output_type": "stream",
          "name": "stdout",
          "text": [
            "['APPLE', 'BANANA', 'CHERRY']\n"
          ]
        }
      ]
    },
    {
      "cell_type": "code",
      "source": [
        "numbers = [-2, 5, -8, 3, 0, 9]\n",
        "positive_numbers = [num for num in numbers if num > 0]\n",
        "print(positive_numbers)\n"
      ],
      "metadata": {
        "colab": {
          "base_uri": "https://localhost:8080/"
        },
        "id": "Ro7J2XUETcIN",
        "outputId": "2404b169-c087-424e-aa37-d11bfd053228"
      },
      "execution_count": null,
      "outputs": [
        {
          "output_type": "stream",
          "name": "stdout",
          "text": [
            "[5, 3, 9]\n"
          ]
        }
      ]
    },
    {
      "cell_type": "markdown",
      "source": [
        "## **Nested for loop answers:**"
      ],
      "metadata": {
        "id": "Yw4XQlBqUedV"
      }
    },
    {
      "cell_type": "code",
      "source": [
        "for i in range(1, 6):\n",
        "    for j in range(1, 11):\n",
        "        result = i * j\n",
        "        print(f\"{i} * {j} = {result}\")\n",
        "    print()  # Empty line after each table\n"
      ],
      "metadata": {
        "colab": {
          "base_uri": "https://localhost:8080/"
        },
        "id": "VRZrbErBTcLR",
        "outputId": "058004f0-07b3-4aa1-b4fe-74184b604c42"
      },
      "execution_count": null,
      "outputs": [
        {
          "output_type": "stream",
          "name": "stdout",
          "text": [
            "1 * 1 = 1\n",
            "1 * 2 = 2\n",
            "1 * 3 = 3\n",
            "1 * 4 = 4\n",
            "1 * 5 = 5\n",
            "1 * 6 = 6\n",
            "1 * 7 = 7\n",
            "1 * 8 = 8\n",
            "1 * 9 = 9\n",
            "1 * 10 = 10\n",
            "\n",
            "2 * 1 = 2\n",
            "2 * 2 = 4\n",
            "2 * 3 = 6\n",
            "2 * 4 = 8\n",
            "2 * 5 = 10\n",
            "2 * 6 = 12\n",
            "2 * 7 = 14\n",
            "2 * 8 = 16\n",
            "2 * 9 = 18\n",
            "2 * 10 = 20\n",
            "\n",
            "3 * 1 = 3\n",
            "3 * 2 = 6\n",
            "3 * 3 = 9\n",
            "3 * 4 = 12\n",
            "3 * 5 = 15\n",
            "3 * 6 = 18\n",
            "3 * 7 = 21\n",
            "3 * 8 = 24\n",
            "3 * 9 = 27\n",
            "3 * 10 = 30\n",
            "\n",
            "4 * 1 = 4\n",
            "4 * 2 = 8\n",
            "4 * 3 = 12\n",
            "4 * 4 = 16\n",
            "4 * 5 = 20\n",
            "4 * 6 = 24\n",
            "4 * 7 = 28\n",
            "4 * 8 = 32\n",
            "4 * 9 = 36\n",
            "4 * 10 = 40\n",
            "\n",
            "5 * 1 = 5\n",
            "5 * 2 = 10\n",
            "5 * 3 = 15\n",
            "5 * 4 = 20\n",
            "5 * 5 = 25\n",
            "5 * 6 = 30\n",
            "5 * 7 = 35\n",
            "5 * 8 = 40\n",
            "5 * 9 = 45\n",
            "5 * 10 = 50\n",
            "\n"
          ]
        }
      ]
    },
    {
      "cell_type": "code",
      "source": [
        "size = 5\n",
        "\n",
        "for i in range(1, size + 1):\n",
        "    for j in range(i):\n",
        "        print(\"*\", end=\"\")\n",
        "    print()\n"
      ],
      "metadata": {
        "colab": {
          "base_uri": "https://localhost:8080/"
        },
        "id": "-UNSwWVAUm9u",
        "outputId": "d20824f8-ed45-4b78-9104-572746ec43bb"
      },
      "execution_count": null,
      "outputs": [
        {
          "output_type": "stream",
          "name": "stdout",
          "text": [
            "*\n",
            "**\n",
            "***\n",
            "****\n",
            "*****\n"
          ]
        }
      ]
    },
    {
      "cell_type": "code",
      "source": [
        "rows = 4\n",
        "columns = 6\n",
        "\n",
        "grid = [[1 for _ in range(columns)] for _ in range(rows)]\n",
        "\n",
        "for row in grid:\n",
        "    print(row)\n"
      ],
      "metadata": {
        "colab": {
          "base_uri": "https://localhost:8080/"
        },
        "id": "3yFjUitJUnEu",
        "outputId": "3e6d0758-81f2-48c6-8904-7ca8b9e7973a"
      },
      "execution_count": null,
      "outputs": [
        {
          "output_type": "stream",
          "name": "stdout",
          "text": [
            "[1, 1, 1, 1, 1, 1]\n",
            "[1, 1, 1, 1, 1, 1]\n",
            "[1, 1, 1, 1, 1, 1]\n",
            "[1, 1, 1, 1, 1, 1]\n"
          ]
        }
      ]
    },
    {
      "cell_type": "code",
      "source": [
        "matrix1 = [[1, 2], [3, 4]]\n",
        "matrix2 = [[5, 6], [7, 8]]\n",
        "\n",
        "result = [[0, 0], [0, 0]]\n",
        "\n",
        "for i in range(len(matrix1)):\n",
        "    for j in range(len(matrix2[0])):\n",
        "        for k in range(len(matrix2)):\n",
        "            result[i][j] += matrix1[i][k] * matrix2[k][j]\n",
        "\n",
        "for row in result:\n",
        "    print(row)\n"
      ],
      "metadata": {
        "colab": {
          "base_uri": "https://localhost:8080/"
        },
        "id": "ENtVeIJMUnIP",
        "outputId": "94441684-3f7a-4a65-9d9f-8d34d830fc0a"
      },
      "execution_count": null,
      "outputs": [
        {
          "output_type": "stream",
          "name": "stdout",
          "text": [
            "[19, 22]\n",
            "[43, 50]\n"
          ]
        }
      ]
    },
    {
      "cell_type": "code",
      "source": [
        "size = 8\n",
        "\n",
        "for i in range(size):\n",
        "    for j in range(size):\n",
        "        if (i + j) % 2 == 0:\n",
        "            print(\"*\", end=\"\")\n",
        "        else:\n",
        "            print(\" \", end=\"\")\n",
        "    print()\n"
      ],
      "metadata": {
        "colab": {
          "base_uri": "https://localhost:8080/"
        },
        "id": "ZfizWcKAUnLH",
        "outputId": "9647ff7c-c48f-467a-d80c-e4ffff727b7e"
      },
      "execution_count": null,
      "outputs": [
        {
          "output_type": "stream",
          "name": "stdout",
          "text": [
            "* * * * \n",
            " * * * *\n",
            "* * * * \n",
            " * * * *\n",
            "* * * * \n",
            " * * * *\n",
            "* * * * \n",
            " * * * *\n"
          ]
        }
      ]
    },
    {
      "cell_type": "markdown",
      "source": [
        "## **while loop solution:**"
      ],
      "metadata": {
        "id": "UqpulVe-V5Ol"
      }
    },
    {
      "cell_type": "code",
      "source": [
        "numbers = [1, 2, 3, 4, 5]\n",
        "index = 0\n",
        "\n",
        "while index < len(numbers):\n",
        "    print(numbers[index])\n",
        "    index += 1\n"
      ],
      "metadata": {
        "colab": {
          "base_uri": "https://localhost:8080/"
        },
        "id": "m7LQa3A7UnOO",
        "outputId": "070e833f-e036-43a9-f024-1f6037bd74b0"
      },
      "execution_count": null,
      "outputs": [
        {
          "output_type": "stream",
          "name": "stdout",
          "text": [
            "1\n",
            "2\n",
            "3\n",
            "4\n",
            "5\n"
          ]
        }
      ]
    },
    {
      "cell_type": "code",
      "source": [
        "fruits = ('apple', 'banana', 'orange', 'grape')\n",
        "index = 0\n",
        "\n",
        "while index < len(fruits):\n",
        "    print(fruits[index])\n",
        "    index += 1\n"
      ],
      "metadata": {
        "colab": {
          "base_uri": "https://localhost:8080/"
        },
        "id": "hc3Y2WQzWEit",
        "outputId": "3a11d2df-0f9b-494e-c525-9cbbdb189d98"
      },
      "execution_count": null,
      "outputs": [
        {
          "output_type": "stream",
          "name": "stdout",
          "text": [
            "apple\n",
            "banana\n",
            "orange\n",
            "grape\n"
          ]
        }
      ]
    },
    {
      "cell_type": "code",
      "source": [
        "text = \"hello\"\n",
        "index = len(text) - 1\n",
        "\n",
        "while index >= 0:\n",
        "    print(text[index])\n",
        "    index -= 1\n"
      ],
      "metadata": {
        "colab": {
          "base_uri": "https://localhost:8080/"
        },
        "id": "XzyVlB3GWEn5",
        "outputId": "a048a407-f08b-4aa2-cee8-af249200c1e6"
      },
      "execution_count": null,
      "outputs": [
        {
          "output_type": "stream",
          "name": "stdout",
          "text": [
            "o\n",
            "l\n",
            "l\n",
            "e\n",
            "h\n"
          ]
        }
      ]
    },
    {
      "cell_type": "code",
      "source": [
        "colors = {'red', 'green', 'blue', 'yellow'}\n",
        "\n",
        "while colors:\n",
        "    color = colors.pop()\n",
        "    print(color)\n"
      ],
      "metadata": {
        "colab": {
          "base_uri": "https://localhost:8080/"
        },
        "id": "qeKWnQ-0WEqW",
        "outputId": "7ac4c50e-9110-4c00-f910-a7bb40e981ec"
      },
      "execution_count": null,
      "outputs": [
        {
          "output_type": "stream",
          "name": "stdout",
          "text": [
            "blue\n",
            "yellow\n",
            "green\n",
            "red\n"
          ]
        }
      ]
    },
    {
      "cell_type": "code",
      "source": [
        "student_scores = {'Alice': 85, 'Bob': 92, 'Charlie': 78}\n",
        "keys = list(student_scores.keys())\n",
        "values = list(student_scores.values())\n",
        "index = 0\n",
        "\n",
        "while index < len(keys):\n",
        "    print(keys[index], \"scored\", values[index])\n",
        "    index += 1\n"
      ],
      "metadata": {
        "colab": {
          "base_uri": "https://localhost:8080/"
        },
        "id": "gR_M0AXjWEs-",
        "outputId": "d6c574dc-10e8-42bf-d8f5-d7882985b575"
      },
      "execution_count": null,
      "outputs": [
        {
          "output_type": "stream",
          "name": "stdout",
          "text": [
            "Alice scored 85\n",
            "Bob scored 92\n",
            "Charlie scored 78\n"
          ]
        }
      ]
    },
    {
      "cell_type": "markdown",
      "source": [
        "## **while loop with else statement:**"
      ],
      "metadata": {
        "id": "WLDf-7PSZBjK"
      }
    },
    {
      "cell_type": "code",
      "source": [
        "secret_number = 7\n",
        "attempts = 0\n",
        "\n",
        "while attempts < 3:\n",
        "    guess = int(input(\"Guess the secret number: \"))\n",
        "    attempts += 1\n",
        "\n",
        "    if guess == secret_number:\n",
        "        print(\"Congratulations! You guessed the secret number.\")\n",
        "        break\n",
        "    else:\n",
        "        print(\"Incorrect guess.\")\n",
        "\n",
        "else:\n",
        "    print(\"Sorry, you've used all your attempts. The secret number was\", secret_number)\n"
      ],
      "metadata": {
        "colab": {
          "base_uri": "https://localhost:8080/"
        },
        "id": "XcevL8ttZJbq",
        "outputId": "27100b9a-55a6-408c-c1b0-2b7562976277"
      },
      "execution_count": null,
      "outputs": [
        {
          "output_type": "stream",
          "name": "stdout",
          "text": [
            "Guess the secret number: 25\n",
            "Incorrect guess.\n",
            "Guess the secret number: 7\n",
            "Congratulations! You guessed the secret number.\n"
          ]
        }
      ]
    },
    {
      "cell_type": "code",
      "source": [
        "countdown_from = 5\n",
        "\n",
        "while countdown_from > 0:\n",
        "    print(countdown_from)\n",
        "    countdown_from -= 1\n",
        "else:\n",
        "    print(\"Time's up!\")\n"
      ],
      "metadata": {
        "colab": {
          "base_uri": "https://localhost:8080/"
        },
        "id": "uzma0pbJZJeq",
        "outputId": "8b955f3a-cd19-431b-d4f7-f3ac726ddf02"
      },
      "execution_count": null,
      "outputs": [
        {
          "output_type": "stream",
          "name": "stdout",
          "text": [
            "5\n",
            "4\n",
            "3\n",
            "2\n",
            "1\n",
            "Time's up!\n"
          ]
        }
      ]
    },
    {
      "cell_type": "code",
      "source": [
        "num = 2\n",
        "\n",
        "while num <= 20:\n",
        "    is_prime = True\n",
        "    divisor = 2\n",
        "\n",
        "    while divisor <= num // 2:\n",
        "        if num % divisor == 0:\n",
        "            is_prime = False\n",
        "            break\n",
        "        divisor += 1\n",
        "\n",
        "    if is_prime:\n",
        "        print(num, \"is prime\")\n",
        "    num += 1\n"
      ],
      "metadata": {
        "colab": {
          "base_uri": "https://localhost:8080/"
        },
        "id": "_Qzc9_tOZJh1",
        "outputId": "f1a86ecb-1139-49c0-8700-99162fa3ff1d"
      },
      "execution_count": null,
      "outputs": [
        {
          "output_type": "stream",
          "name": "stdout",
          "text": [
            "2 is prime\n",
            "3 is prime\n",
            "5 is prime\n",
            "7 is prime\n",
            "11 is prime\n",
            "13 is prime\n",
            "17 is prime\n",
            "19 is prime\n"
          ]
        }
      ]
    },
    {
      "cell_type": "code",
      "source": [
        "number = int(input(\"Enter a positive integer: \"))\n",
        "original_number = number\n",
        "sum_digits = 0\n",
        "\n",
        "while number > 0:\n",
        "    digit = number % 10\n",
        "    sum_digits += digit\n",
        "    number //= 10\n",
        "\n",
        "print(\"Sum of digits of\", original_number, \"is\", sum_digits)\n"
      ],
      "metadata": {
        "colab": {
          "base_uri": "https://localhost:8080/"
        },
        "id": "-UEzK9S6ZJmF",
        "outputId": "4c74d681-f03d-4780-a319-0d5c31caf71a"
      },
      "execution_count": null,
      "outputs": [
        {
          "output_type": "stream",
          "name": "stdout",
          "text": [
            "Enter a positive integer: 2358\n",
            "Sum of digits of 2358 is 18\n"
          ]
        }
      ]
    },
    {
      "cell_type": "code",
      "source": [
        "password = \"secure123\"\n",
        "attempts = 0\n",
        "\n",
        "while attempts < 3:\n",
        "    user_input = input(\"Enter the password: \")\n",
        "    attempts += 1\n",
        "\n",
        "    if user_input == password:\n",
        "        print(\"Password accepted.\")\n",
        "        break\n",
        "    else:\n",
        "        print(\"Incorrect password.\")\n",
        "\n",
        "else:\n",
        "    print(\"Sorry, you've used all your attempts. Access denied.\")\n"
      ],
      "metadata": {
        "colab": {
          "base_uri": "https://localhost:8080/"
        },
        "id": "6XjaKmSJZJop",
        "outputId": "5a60c7ae-3b5d-406c-f154-bebbd1ff69d3"
      },
      "execution_count": null,
      "outputs": [
        {
          "output_type": "stream",
          "name": "stdout",
          "text": [
            "Enter the password: secure123\n",
            "Password accepted.\n"
          ]
        }
      ]
    },
    {
      "cell_type": "markdown",
      "source": [
        "## **Short hand while loop:**"
      ],
      "metadata": {
        "id": "0J4xjUVFag47"
      }
    },
    {
      "cell_type": "code",
      "source": [
        "num = 10\n",
        "while num >= 2: print(num) if num % 2 == 0 else None; num -= 1\n"
      ],
      "metadata": {
        "colab": {
          "base_uri": "https://localhost:8080/"
        },
        "id": "T5-G9QTBZJrL",
        "outputId": "076b1b37-9666-4c9a-9625-173a86bfed51"
      },
      "execution_count": null,
      "outputs": [
        {
          "output_type": "stream",
          "name": "stdout",
          "text": [
            "10\n",
            "8\n",
            "6\n",
            "4\n",
            "2\n"
          ]
        }
      ]
    },
    {
      "cell_type": "code",
      "source": [
        "power = 0\n",
        "while power <= 5: print(2 ** power); power += 1\n"
      ],
      "metadata": {
        "colab": {
          "base_uri": "https://localhost:8080/"
        },
        "id": "XPoHD7TWZJt7",
        "outputId": "bb594108-c536-4c5e-ba31-c8532019f1fa"
      },
      "execution_count": null,
      "outputs": [
        {
          "output_type": "stream",
          "name": "stdout",
          "text": [
            "1\n",
            "2\n",
            "4\n",
            "8\n",
            "16\n",
            "32\n"
          ]
        }
      ]
    },
    {
      "cell_type": "code",
      "source": [
        "num = 1\n",
        "sum_nums = 0\n",
        "while num <= 10: sum_nums += num; num += 1\n",
        "print(\"Sum:\", sum_nums)\n"
      ],
      "metadata": {
        "colab": {
          "base_uri": "https://localhost:8080/"
        },
        "id": "EnRadY5fZJwh",
        "outputId": "4c8e16f2-c5f1-4c74-d79e-da29fcadd62c"
      },
      "execution_count": null,
      "outputs": [
        {
          "output_type": "stream",
          "name": "stdout",
          "text": [
            "Sum: 55\n"
          ]
        }
      ]
    },
    {
      "cell_type": "code",
      "source": [
        "num = 1\n",
        "squares = []\n",
        "while num <= 5: squares.append(num ** 2); num += 1\n",
        "print(squares)\n"
      ],
      "metadata": {
        "colab": {
          "base_uri": "https://localhost:8080/"
        },
        "id": "ZLGYv6p-ZJzg",
        "outputId": "90c30f6a-e4ac-4a57-9d9f-2d720c3088c6"
      },
      "execution_count": null,
      "outputs": [
        {
          "output_type": "stream",
          "name": "stdout",
          "text": [
            "[1, 4, 9, 16, 25]\n"
          ]
        }
      ]
    },
    {
      "cell_type": "code",
      "source": [
        "seconds = 5\n",
        "while seconds >= 1: print(f\"Countdown: {seconds} second(s)\"); seconds -= 1\n",
        "print(\"Time's up!\")\n"
      ],
      "metadata": {
        "colab": {
          "base_uri": "https://localhost:8080/"
        },
        "id": "22ti_oQsZJ2R",
        "outputId": "fff17c5c-78d2-4078-e349-ba9f26c19df8"
      },
      "execution_count": null,
      "outputs": [
        {
          "output_type": "stream",
          "name": "stdout",
          "text": [
            "Countdown: 5 second(s)\n",
            "Countdown: 4 second(s)\n",
            "Countdown: 3 second(s)\n",
            "Countdown: 2 second(s)\n",
            "Countdown: 1 second(s)\n",
            "Time's up!\n"
          ]
        }
      ]
    },
    {
      "cell_type": "markdown",
      "source": [
        "## **Nested while loop:**"
      ],
      "metadata": {
        "id": "KR-i5qsgdTCg"
      }
    },
    {
      "cell_type": "code",
      "source": [
        "i = 1\n",
        "while i <= 5:\n",
        "    j = 1\n",
        "    while j <= 10:\n",
        "        result = i * j\n",
        "        print(f\"{i} * {j} = {result}\")\n",
        "        j += 1\n",
        "    i += 1\n",
        "    print()  # Empty line after each table\n"
      ],
      "metadata": {
        "colab": {
          "base_uri": "https://localhost:8080/"
        },
        "id": "s8Gq7LZrdcIT",
        "outputId": "ef3f3d16-c3f8-4fac-e430-2c89c605eee2"
      },
      "execution_count": null,
      "outputs": [
        {
          "output_type": "stream",
          "name": "stdout",
          "text": [
            "1 * 1 = 1\n",
            "1 * 2 = 2\n",
            "1 * 3 = 3\n",
            "1 * 4 = 4\n",
            "1 * 5 = 5\n",
            "1 * 6 = 6\n",
            "1 * 7 = 7\n",
            "1 * 8 = 8\n",
            "1 * 9 = 9\n",
            "1 * 10 = 10\n",
            "\n",
            "2 * 1 = 2\n",
            "2 * 2 = 4\n",
            "2 * 3 = 6\n",
            "2 * 4 = 8\n",
            "2 * 5 = 10\n",
            "2 * 6 = 12\n",
            "2 * 7 = 14\n",
            "2 * 8 = 16\n",
            "2 * 9 = 18\n",
            "2 * 10 = 20\n",
            "\n",
            "3 * 1 = 3\n",
            "3 * 2 = 6\n",
            "3 * 3 = 9\n",
            "3 * 4 = 12\n",
            "3 * 5 = 15\n",
            "3 * 6 = 18\n",
            "3 * 7 = 21\n",
            "3 * 8 = 24\n",
            "3 * 9 = 27\n",
            "3 * 10 = 30\n",
            "\n",
            "4 * 1 = 4\n",
            "4 * 2 = 8\n",
            "4 * 3 = 12\n",
            "4 * 4 = 16\n",
            "4 * 5 = 20\n",
            "4 * 6 = 24\n",
            "4 * 7 = 28\n",
            "4 * 8 = 32\n",
            "4 * 9 = 36\n",
            "4 * 10 = 40\n",
            "\n",
            "5 * 1 = 5\n",
            "5 * 2 = 10\n",
            "5 * 3 = 15\n",
            "5 * 4 = 20\n",
            "5 * 5 = 25\n",
            "5 * 6 = 30\n",
            "5 * 7 = 35\n",
            "5 * 8 = 40\n",
            "5 * 9 = 45\n",
            "5 * 10 = 50\n",
            "\n"
          ]
        }
      ]
    },
    {
      "cell_type": "code",
      "source": [
        "row = 1\n",
        "while row <= 5:\n",
        "    column = 1\n",
        "    while column <= row:\n",
        "        print(column, end=\" \")\n",
        "        column += 1\n",
        "    print()\n",
        "    row += 1\n"
      ],
      "metadata": {
        "colab": {
          "base_uri": "https://localhost:8080/"
        },
        "id": "WHcXOnEudg3S",
        "outputId": "fe3fc8cb-b15b-4618-e242-221711ae960f"
      },
      "execution_count": null,
      "outputs": [
        {
          "output_type": "stream",
          "name": "stdout",
          "text": [
            "1 \n",
            "1 2 \n",
            "1 2 3 \n",
            "1 2 3 4 \n",
            "1 2 3 4 5 \n"
          ]
        }
      ]
    },
    {
      "cell_type": "code",
      "source": [
        "fib_sequence = [0, 1]\n",
        "count = 2\n",
        "\n",
        "while count < 10:\n",
        "    next_num = fib_sequence[-1] + fib_sequence[-2]\n",
        "    fib_sequence.append(next_num)\n",
        "    count += 1\n",
        "\n",
        "print(fib_sequence)\n"
      ],
      "metadata": {
        "colab": {
          "base_uri": "https://localhost:8080/"
        },
        "id": "VcMvj6akdjdS",
        "outputId": "71898f4e-1cc1-485b-b39e-0a4220eb0163"
      },
      "execution_count": null,
      "outputs": [
        {
          "output_type": "stream",
          "name": "stdout",
          "text": [
            "[0, 1, 1, 2, 3, 5, 8, 13, 21, 34]\n"
          ]
        }
      ]
    },
    {
      "cell_type": "code",
      "source": [
        "num = 2\n",
        "while num <= 20:\n",
        "    is_prime = True\n",
        "    divisor = 2\n",
        "    while divisor <= num // 2 and is_prime:\n",
        "        if num % divisor == 0:\n",
        "            is_prime = False\n",
        "        divisor += 1\n",
        "    if is_prime:\n",
        "        print(num, \"is prime\")\n",
        "    num += 1"
      ],
      "metadata": {
        "colab": {
          "base_uri": "https://localhost:8080/"
        },
        "id": "FAspcghOdlii",
        "outputId": "997c7f57-baa4-4695-82cd-a4460f20ab93"
      },
      "execution_count": null,
      "outputs": [
        {
          "output_type": "stream",
          "name": "stdout",
          "text": [
            "2 is prime\n",
            "3 is prime\n",
            "5 is prime\n",
            "7 is prime\n",
            "11 is prime\n",
            "13 is prime\n",
            "17 is prime\n",
            "19 is prime\n"
          ]
        }
      ]
    },
    {
      "cell_type": "code",
      "source": [
        "outer_count = 5\n",
        "while outer_count >= 1:\n",
        "    inner_count = outer_count\n",
        "    while inner_count >= 1:\n",
        "        print(inner_count, end=\" \")\n",
        "        inner_count -= 1\n",
        "    print()\n",
        "    outer_count -= 1\n"
      ],
      "metadata": {
        "colab": {
          "base_uri": "https://localhost:8080/"
        },
        "id": "iMXMargpdnmy",
        "outputId": "35221bc7-82fd-4567-beee-c81eba959c78"
      },
      "execution_count": null,
      "outputs": [
        {
          "output_type": "stream",
          "name": "stdout",
          "text": [
            "5 4 3 2 1 \n",
            "4 3 2 1 \n",
            "3 2 1 \n",
            "2 1 \n",
            "1 \n"
          ]
        }
      ]
    },
    {
      "cell_type": "markdown",
      "source": [
        "## **while loop with break continue and pass statement:**\n"
      ],
      "metadata": {
        "id": "e47IFHYAfY3h"
      }
    },
    {
      "cell_type": "code",
      "source": [
        "numbers = [3, 5, 8, 11, 14, 17]\n",
        "index = 0\n",
        "\n",
        "while index < len(numbers):\n",
        "    if numbers[index] % 2 == 0:\n",
        "        print(\"Found the first even number:\", numbers[index])\n",
        "        break\n",
        "    index += 1\n"
      ],
      "metadata": {
        "colab": {
          "base_uri": "https://localhost:8080/"
        },
        "id": "6B3WYyCxfpgB",
        "outputId": "09d36057-1bc0-45e6-ec09-d00bc70cbfd6"
      },
      "execution_count": null,
      "outputs": [
        {
          "output_type": "stream",
          "name": "stdout",
          "text": [
            "Found the first even number: 8\n"
          ]
        }
      ]
    },
    {
      "cell_type": "code",
      "source": [
        "num = 1\n",
        "while num <= 10:\n",
        "    if num == 7:\n",
        "        num += 1\n",
        "        continue\n",
        "    if num % 2 != 0:\n",
        "        print(num)\n",
        "    num += 1\n"
      ],
      "metadata": {
        "colab": {
          "base_uri": "https://localhost:8080/"
        },
        "id": "qCdZqxyQfpsh",
        "outputId": "3b0f98c7-f4ce-4202-dc94-fe3fd3557806"
      },
      "execution_count": null,
      "outputs": [
        {
          "output_type": "stream",
          "name": "stdout",
          "text": [
            "1\n",
            "3\n",
            "5\n",
            "9\n"
          ]
        }
      ]
    },
    {
      "cell_type": "code",
      "source": [
        "num = 2\n",
        "while num <= 10:\n",
        "    is_prime = True\n",
        "    divisor = 2\n",
        "    while divisor <= num // 2:\n",
        "        if num % divisor == 0:\n",
        "            is_prime = False\n",
        "            break\n",
        "        divisor += 1\n",
        "    if is_prime:\n",
        "        print(num, \"is prime\")\n",
        "    num += 1\n"
      ],
      "metadata": {
        "colab": {
          "base_uri": "https://localhost:8080/"
        },
        "id": "rSk9JU3OfpvK",
        "outputId": "2c642a29-bdc7-47db-cbdb-e01ad75c0989"
      },
      "execution_count": null,
      "outputs": [
        {
          "output_type": "stream",
          "name": "stdout",
          "text": [
            "2 is prime\n",
            "3 is prime\n",
            "5 is prime\n",
            "7 is prime\n"
          ]
        }
      ]
    },
    {
      "cell_type": "code",
      "source": [
        "n = 1\n",
        "\n",
        "while n <= 10:\n",
        "    if n > 1:  # Prime numbers are greater than 1\n",
        "        is_prime = True\n",
        "\n",
        "        # Add prime number checking logic here\n",
        "        pass\n",
        "\n",
        "        if is_prime:\n",
        "            print(n, end=\" \")\n",
        "\n",
        "    n += 1\n",
        "\n",
        "print()\n"
      ],
      "metadata": {
        "colab": {
          "base_uri": "https://localhost:8080/"
        },
        "id": "G_dzorHNtJ1S",
        "outputId": "2d6cbd1e-2f20-4675-b39d-fb1391a00fda"
      },
      "execution_count": null,
      "outputs": [
        {
          "output_type": "stream",
          "name": "stdout",
          "text": [
            "2 3 4 5 6 7 8 9 10 \n"
          ]
        }
      ]
    },
    {
      "cell_type": "code",
      "source": [
        "number = 20\n",
        "\n",
        "while True:\n",
        "    if number % 5 == 0:\n",
        "        print(\"Smallest multiple of 5 greater than 20:\", number)\n",
        "        break\n",
        "    number += 1\n"
      ],
      "metadata": {
        "colab": {
          "base_uri": "https://localhost:8080/"
        },
        "id": "Alq6vkiNfpxq",
        "outputId": "f1c0456c-c76e-4eca-868f-507729d19831"
      },
      "execution_count": null,
      "outputs": [
        {
          "output_type": "stream",
          "name": "stdout",
          "text": [
            "Smallest multiple of 5 greater than 20: 20\n"
          ]
        }
      ]
    },
    {
      "cell_type": "code",
      "source": [
        "num = -5\n",
        "while num <= 5:\n",
        "    if num < 0:\n",
        "        num += 1\n",
        "        continue\n",
        "    print(num)\n",
        "    num += 1\n"
      ],
      "metadata": {
        "colab": {
          "base_uri": "https://localhost:8080/"
        },
        "id": "wpOf7Rhpfp0P",
        "outputId": "60bbc796-eb6a-41c0-a22c-d0fe47bdb0bd"
      },
      "execution_count": null,
      "outputs": [
        {
          "output_type": "stream",
          "name": "stdout",
          "text": [
            "0\n",
            "1\n",
            "2\n",
            "3\n",
            "4\n",
            "5\n"
          ]
        }
      ]
    },
    {
      "cell_type": "code",
      "source": [
        "number = int(input(\"Enter a positive integer: \"))\n",
        "original_number = number\n",
        "sum_digits = 0\n",
        "\n",
        "while number > 0:\n",
        "    digit = number % 10\n",
        "    sum_digits += digit\n",
        "    number //= 10\n",
        "    pass  # Add the calculation logic here\n",
        "\n",
        "print(\"Sum of digits of\", original_number, \"is\", sum_digits)\n"
      ],
      "metadata": {
        "colab": {
          "base_uri": "https://localhost:8080/"
        },
        "id": "GN9L6pevfp2r",
        "outputId": "3a380e69-3f24-4c5d-a15a-9d6a33ca53a7"
      },
      "execution_count": null,
      "outputs": [
        {
          "output_type": "stream",
          "name": "stdout",
          "text": [
            "Enter a positive integer: 25\n",
            "Sum of digits of 25 is 7\n"
          ]
        }
      ]
    },
    {
      "cell_type": "code",
      "source": [],
      "metadata": {
        "id": "pAdXp1wPfp5f"
      },
      "execution_count": null,
      "outputs": []
    }
  ]
}